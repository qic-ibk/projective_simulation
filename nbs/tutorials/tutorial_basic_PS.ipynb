{
 "cells": [
  {
   "cell_type": "markdown",
   "id": "5c39fa55-9ffc-4cb7-825c-3a630505b7fd",
   "metadata": {},
   "source": [
    "# Tutorial 1 - BASIC PS\n",
    "\n",
    "This is a nice tutorial on how to import from `utils`:"
   ]
  },
  {
   "cell_type": "code",
   "execution_count": null,
   "id": "4e5b4a41-2aef-4aea-9c07-55c18a03ffc4",
   "metadata": {},
   "outputs": [
    {
     "ename": "ModuleNotFoundError",
     "evalue": "No module named 'projective_simulation'",
     "output_type": "error",
     "traceback": [
      "\u001b[1;31m---------------------------------------------------------------------------\u001b[0m",
      "\u001b[1;31mModuleNotFoundError\u001b[0m                       Traceback (most recent call last)",
      "Cell \u001b[1;32mIn[3], line 1\u001b[0m\n\u001b[1;32m----> 1\u001b[0m \u001b[38;5;28;01mfrom\u001b[39;00m \u001b[38;5;21;01mprojective_simulation\u001b[39;00m\u001b[38;5;21;01m.\u001b[39;00m\u001b[38;5;21;01mdemo\u001b[39;00m \u001b[38;5;28;01mimport\u001b[39;00m random_func\n",
      "\u001b[1;31mModuleNotFoundError\u001b[0m: No module named 'projective_simulation'"
     ]
    }
   ],
   "source": [
    "from projective_simulation.demo import random_func"
   ]
  },
  {
   "cell_type": "markdown",
   "id": "50e0e05b-d878-4009-9930-30e0ef027413",
   "metadata": {},
   "source": [
    "This is what that function was doing:"
   ]
  },
  {
   "cell_type": "code",
   "execution_count": null,
   "id": "6a80f861-e43e-44c0-a4bf-db9ea6206c4d",
   "metadata": {},
   "outputs": [
    {
     "data": {
      "text/plain": [
       "\u001b[0;31mSignature:\u001b[0m \u001b[0mrandom_func\u001b[0m\u001b[0;34m(\u001b[0m\u001b[0mk\u001b[0m\u001b[0;34m)\u001b[0m\u001b[0;34m\u001b[0m\u001b[0;34m\u001b[0m\u001b[0m\n",
       "\u001b[0;31mDocstring:\u001b[0m <no docstring>\n",
       "\u001b[0;31mSource:\u001b[0m    \u001b[0;32mdef\u001b[0m \u001b[0mrandom_func\u001b[0m\u001b[0;34m(\u001b[0m\u001b[0mk\u001b[0m\u001b[0;34m)\u001b[0m\u001b[0;34m:\u001b[0m \u001b[0;32mreturn\u001b[0m \u001b[0mk\u001b[0m\u001b[0;34m*\u001b[0m\u001b[0mnp\u001b[0m\u001b[0;34m.\u001b[0m\u001b[0mrandom\u001b[0m\u001b[0;34m.\u001b[0m\u001b[0mrand\u001b[0m\u001b[0;34m(\u001b[0m\u001b[0;34m)\u001b[0m\u001b[0;34m\u001b[0m\u001b[0;34m\u001b[0m\u001b[0m\n",
       "\u001b[0;31mFile:\u001b[0m      ~/github/projective_simulation/projective_simulation/utils.py\n",
       "\u001b[0;31mType:\u001b[0m      function"
      ]
     },
     "metadata": {},
     "output_type": "display_data"
    }
   ],
   "source": [
    "random_func??"
   ]
  },
  {
   "cell_type": "markdown",
   "id": "81433bae-03df-45e4-b8f4-f3219c12d0ea",
   "metadata": {},
   "source": [
    "and also to load a PS agent:"
   ]
  },
  {
   "cell_type": "code",
   "execution_count": null,
   "id": "bbb13d1b-c579-4a4a-9a12-ad2a3037073c",
   "metadata": {},
   "outputs": [],
   "source": [
    "from projective_simulation.agents.basic_PS import Basic_PSAgent"
   ]
  },
  {
   "cell_type": "code",
   "execution_count": null,
   "id": "58f99739-f0f6-46c2-ba44-f7b6ef8dfde4",
   "metadata": {},
   "outputs": [
    {
     "data": {
      "text/plain": [
       "<projective_simulation.basic_PS.PSAgent>"
      ]
     },
     "execution_count": null,
     "metadata": {},
     "output_type": "execute_result"
    }
   ],
   "source": [
    "Basic_PSAgent(num_actions = int(random_func(4)))"
   ]
  }
 ],
 "metadata": {
  "kernelspec": {
   "display_name": "python3",
   "language": "python",
   "name": "python3"
  }
 },
 "nbformat": 4,
 "nbformat_minor": 5
}
