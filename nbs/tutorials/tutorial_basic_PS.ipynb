{
 "cells": [
  {
   "cell_type": "markdown",
   "id": "5c39fa55-9ffc-4cb7-825c-3a630505b7fd",
   "metadata": {},
   "source": [
    "# Tutorial 1 - BASIC PS\n",
    "\n",
    "This is a nice tutorial on how to import from `utils`:"
   ]
  },
  {
   "cell_type": "code",
   "execution_count": 1,
   "id": "4e5b4a41-2aef-4aea-9c07-55c18a03ffc4",
   "metadata": {},
   "outputs": [],
   "source": [
    "from projective_simulation.demo import random_func"
   ]
  },
  {
   "cell_type": "markdown",
   "id": "50e0e05b-d878-4009-9930-30e0ef027413",
   "metadata": {},
   "source": [
    "This is what that function was doing:"
   ]
  },
  {
   "cell_type": "code",
   "execution_count": 2,
   "id": "6a80f861-e43e-44c0-a4bf-db9ea6206c4d",
   "metadata": {},
   "outputs": [
    {
     "data": {
      "text/plain": [
       "\u001b[1;31mSignature:\u001b[0m \u001b[0mrandom_func\u001b[0m\u001b[1;33m(\u001b[0m\u001b[0mk\u001b[0m\u001b[1;33m)\u001b[0m\u001b[1;33m\u001b[0m\u001b[1;33m\u001b[0m\u001b[0m\n",
       "\u001b[1;31mDocstring:\u001b[0m <no docstring>\n",
       "\u001b[1;31mSource:\u001b[0m    \u001b[1;32mdef\u001b[0m \u001b[0mrandom_func\u001b[0m\u001b[1;33m(\u001b[0m\u001b[0mk\u001b[0m\u001b[1;33m)\u001b[0m\u001b[1;33m:\u001b[0m \u001b[1;32mreturn\u001b[0m \u001b[0mk\u001b[0m\u001b[1;33m*\u001b[0m\u001b[0mnp\u001b[0m\u001b[1;33m.\u001b[0m\u001b[0mrandom\u001b[0m\u001b[1;33m.\u001b[0m\u001b[0mrand\u001b[0m\u001b[1;33m(\u001b[0m\u001b[1;33m)\u001b[0m\u001b[1;33m\u001b[0m\u001b[1;33m\u001b[0m\u001b[0m\n",
       "\u001b[1;31mFile:\u001b[0m      c:\\users\\alexa\\documents\\projective_simulation\\projective_simulation\\demo.py\n",
       "\u001b[1;31mType:\u001b[0m      function"
      ]
     },
     "metadata": {},
     "output_type": "display_data"
    }
   ],
   "source": [
    "random_func??"
   ]
  },
  {
   "cell_type": "markdown",
   "id": "81433bae-03df-45e4-b8f4-f3219c12d0ea",
   "metadata": {},
   "source": [
    "and also to load a PS agent:"
   ]
  },
  {
   "cell_type": "code",
   "execution_count": 3,
   "id": "bbb13d1b-c579-4a4a-9a12-ad2a3037073c",
   "metadata": {},
   "outputs": [],
   "source": [
    "from projective_simulation.agents import Basic_PSAgent"
   ]
  },
  {
   "cell_type": "code",
   "execution_count": 4,
   "id": "58f99739-f0f6-46c2-ba44-f7b6ef8dfde4",
   "metadata": {},
   "outputs": [
    {
     "data": {
      "text/plain": [
       "<projective_simulation.agents.Basic_PSAgent at 0x1c07e3b7650>"
      ]
     },
     "execution_count": 4,
     "metadata": {},
     "output_type": "execute_result"
    }
   ],
   "source": [
    "Basic_PSAgent(num_actions = int(random_func(4)))"
   ]
  }
 ],
 "metadata": {
  "kernelspec": {
   "display_name": "Python 3 (ipykernel)",
   "language": "python",
   "name": "python3"
  },
  "language_info": {
   "codemirror_mode": {
    "name": "ipython",
    "version": 3
   },
   "file_extension": ".py",
   "mimetype": "text/x-python",
   "name": "python",
   "nbconvert_exporter": "python",
   "pygments_lexer": "ipython3",
   "version": "3.12.0"
  }
 },
 "nbformat": 4,
 "nbformat_minor": 5
}
