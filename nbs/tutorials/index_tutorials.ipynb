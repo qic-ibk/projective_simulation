{
 "cells": [
  {
   "cell_type": "markdown",
   "id": "9f05f1f5-ea7d-49b5-9cb4-233ada50b677",
   "metadata": {},
   "source": [
    "# Tutorials"
   ]
  },
  {
   "cell_type": "markdown",
   "id": "7e2cbe84-b29c-4017-8cff-daca54f0200f",
   "metadata": {},
   "source": [
    "We have compiled a series of tutorials that take you from the very basics of Projective Simulation (PS) to applications presented in research papers.\n",
    "\n",
    "## Learning PS\n",
    "These tutorials are designed to introduce the fundamentals of PS.\n",
    "\n",
    "- [Intro to PS](learning_ps/00_Introduction_to_PS.ipynb): This notebook guides you through the basics of a PS agent equipped with a two-layer ECM. You will learn how the agent updates its internal structure based on reinforcement learning.\n",
    "\n",
    "## Applications\n",
    "Here you will find tutorials illustrating the use of PS in various applications, often developed within scientific papers.\n",
    "\n",
    "- [Learning to reset in target search problems](applications/foraging/02_learning_to_reset.ipynb): This notebook explores how a PS agent can learn an efficient resetting strategy for searching randomly distributed targets.\n",
    "\n",
    "## Contributing\n",
    "If you would like to contribute, please see this [tutorial on contributing guidelines](contributing/00_contributing.ipynb).\n"
   ]
  }
 ],
 "metadata": {
  "kernelspec": {
   "display_name": "python3",
   "language": "python",
   "name": "python3"
  }
 },
 "nbformat": 4,
 "nbformat_minor": 5
}
