{
 "cells": [
  {
   "cell_type": "markdown",
   "id": "9f05f1f5-ea7d-49b5-9cb4-233ada50b677",
   "metadata": {},
   "source": [
    "# Tutorials"
   ]
  },
  {
   "cell_type": "markdown",
   "id": "7d77f524-b780-4233-b68f-8d254e23a5af",
   "metadata": {},
   "source": [
    "We have gathered a series of tutorials that will allow you to explore from the very basics of PS to applications perform in research papers.\n",
    "\n",
    "## Learning PS\n",
    "\n",
    "- [Intro to PS](10_Introduction_to_PS.ipynb): this notebook will guide you through the basics of a PS agent equipped with a two layer ECM. You will learn how an agent updates its internal structure based on reinforcement learning.\n",
    "\n",
    "## Research\n",
    "\n",
    "- ??\n",
    "\n",
    "## Contributing\n",
    "\n",
    "If you want to contribute, please check this [tutorial on contributing guidelines](00_contributing.ipynb)"
   ]
  },
  {
   "cell_type": "code",
   "execution_count": null,
   "id": "5f2441e6-f673-4763-ad2a-17fd166f4b1a",
   "metadata": {},
   "outputs": [],
   "source": []
  }
 ],
 "metadata": {
  "kernelspec": {
   "display_name": "Python 3 (ipykernel)",
   "language": "python",
   "name": "python3"
  },
  "language_info": {
   "codemirror_mode": {
    "name": "ipython",
    "version": 3
   },
   "file_extension": ".py",
   "mimetype": "text/x-python",
   "name": "python",
   "nbconvert_exporter": "python",
   "pygments_lexer": "ipython3",
   "version": "3.9.12"
  }
 },
 "nbformat": 4,
 "nbformat_minor": 5
}
