{
 "cells": [
  {
   "cell_type": "markdown",
   "metadata": {},
   "source": [
    "# Contribution guide\n",
    "\n",
    "> In this notebook we will guide you through the basics of contributing to the `projective_simulation` library. "
   ]
  },
  {
   "cell_type": "markdown",
   "metadata": {},
   "source": [
    "# Parent classes and compulsory modules\n",
    "\n",
    "To make it easier to develop PS agents and structures, we provide `Abstract` classes for Agents and Episodic and Compositional Memories (ECM) designed to guide you through the process. These classes include some **compulsory** modules that must be implemented for your code to qualify as a \"true\" PS module. Let’s review them so you can start coding your own PS agents!  \n",
    "\n",
    "If you are not yet familiar with PS or how they learn in a Reinforcement Learning environment, we recommend starting with [this tutorial](../learning_ps/00_Introduction_to_PS.ipynb).\n",
    "\n",
    "\n",
    "## Agents\n",
    "\n",
    "In the PS framework, agents must implement two compulsory modules:\n",
    " - `deliberate`: typically returns an action given an input state  \n",
    " - `update`: updates the internal structure of your agent  \n",
    "\n",
    "That’s it, the rest is up to you. Let’s look at an example. First, import the `Abstract_Agent` class from the library:"
   ]
  },
  {
   "cell_type": "code",
   "execution_count": null,
   "metadata": {},
   "outputs": [],
   "source": [
    "from projective_simulation.agents.core import Abstract_Agent"
   ]
  },
  {
   "cell_type": "markdown",
   "metadata": {},
   "source": [
    "And now let's create our new shinny agent. To illustrate what happens when something goes wrong, let's \"forget\" to define the module `update`:"
   ]
  },
  {
   "cell_type": "code",
   "execution_count": null,
   "metadata": {},
   "outputs": [],
   "source": [
    "#| hide\n",
    "import numpy as np"
   ]
  },
  {
   "cell_type": "code",
   "execution_count": null,
   "metadata": {},
   "outputs": [],
   "source": [
    "class my_new_agent(Abstract_Agent):\n",
    "    \n",
    "    def __init__(self, num_actions):\n",
    "        # Takes a random action\n",
    "        self.num_actions = num_actions\n",
    "\n",
    "    def deliberate(self):\n",
    "        return np.random.randint(self.num_actions)"
   ]
  },
  {
   "cell_type": "markdown",
   "metadata": {},
   "source": [
    "Now let's call our new class and see what happens:"
   ]
  },
  {
   "cell_type": "code",
   "execution_count": null,
   "metadata": {},
   "outputs": [
    {
     "ename": "TypeError",
     "evalue": "Cannot instantiate class my_new_agent because it is missing method(s): update.\nPlease implement all abstract methods (see documentation of class for details).",
     "output_type": "error",
     "traceback": [
      "\u001b[0;31m---------------------------------------------------------------------------\u001b[0m",
      "\u001b[0;31mTypeError\u001b[0m                                 Traceback (most recent call last)",
      "Cell \u001b[0;32mIn[18], line 1\u001b[0m\n\u001b[0;32m----> 1\u001b[0m agent \u001b[38;5;241m=\u001b[39m my_new_agent(\u001b[38;5;241m3\u001b[39m)\n",
      "File \u001b[0;32m~/github/projective_simulation/projective_simulation/methods/lib_helpers.py:15\u001b[0m, in \u001b[0;36mCustomABCMeta.__call__\u001b[0;34m(cls, *args, **kwargs)\u001b[0m\n\u001b[1;32m     13\u001b[0m \u001b[38;5;28;01mif\u001b[39;00m \u001b[38;5;28mcls\u001b[39m\u001b[38;5;241m.\u001b[39m__abstractmethods__:\n\u001b[1;32m     14\u001b[0m     missing \u001b[38;5;241m=\u001b[39m \u001b[38;5;124m'\u001b[39m\u001b[38;5;124m, \u001b[39m\u001b[38;5;124m'\u001b[39m\u001b[38;5;241m.\u001b[39mjoin(\u001b[38;5;28msorted\u001b[39m(\u001b[38;5;28mcls\u001b[39m\u001b[38;5;241m.\u001b[39m__abstractmethods__))\n\u001b[0;32m---> 15\u001b[0m     \u001b[38;5;28;01mraise\u001b[39;00m \u001b[38;5;167;01mTypeError\u001b[39;00m(\n\u001b[1;32m     16\u001b[0m         \u001b[38;5;124mf\u001b[39m\u001b[38;5;124m\"\u001b[39m\u001b[38;5;124mCannot instantiate class \u001b[39m\u001b[38;5;132;01m{\u001b[39;00m\u001b[38;5;28mcls\u001b[39m\u001b[38;5;241m.\u001b[39m\u001b[38;5;18m__name__\u001b[39m\u001b[38;5;132;01m}\u001b[39;00m\u001b[38;5;124m \u001b[39m\u001b[38;5;124m\"\u001b[39m\n\u001b[1;32m     17\u001b[0m         \u001b[38;5;124mf\u001b[39m\u001b[38;5;124m\"\u001b[39m\u001b[38;5;124mbecause it is missing method(s): \u001b[39m\u001b[38;5;132;01m{\u001b[39;00mmissing\u001b[38;5;132;01m}\u001b[39;00m\u001b[38;5;124m.\u001b[39m\u001b[38;5;130;01m\\n\u001b[39;00m\u001b[38;5;124m\"\u001b[39m\n\u001b[1;32m     18\u001b[0m         \u001b[38;5;124mf\u001b[39m\u001b[38;5;124m\"\u001b[39m\u001b[38;5;124mPlease implement all abstract methods (see documentation of class for details).\u001b[39m\u001b[38;5;124m\"\u001b[39m\n\u001b[1;32m     19\u001b[0m     )\n\u001b[1;32m     20\u001b[0m \u001b[38;5;66;03m# Otherwise, call the normal __call__ to instantiate\u001b[39;00m\n\u001b[1;32m     21\u001b[0m \u001b[38;5;28;01mreturn\u001b[39;00m \u001b[38;5;28msuper\u001b[39m()\u001b[38;5;241m.\u001b[39m\u001b[38;5;21m__call__\u001b[39m(\u001b[38;5;241m*\u001b[39margs, \u001b[38;5;241m*\u001b[39m\u001b[38;5;241m*\u001b[39mkwargs)\n",
      "\u001b[0;31mTypeError\u001b[0m: Cannot instantiate class my_new_agent because it is missing method(s): update.\nPlease implement all abstract methods (see documentation of class for details)."
     ]
    }
   ],
   "source": [
    "agent = my_new_agent(3)"
   ]
  },
  {
   "cell_type": "markdown",
   "metadata": {},
   "source": [
    "Ups! As you see, and as expected, the agent is missing the `update` module. Let's correct that and double check:"
   ]
  },
  {
   "cell_type": "code",
   "execution_count": null,
   "metadata": {},
   "outputs": [],
   "source": [
    "class my_new_BETTER_agent(Abstract_Agent):\n",
    "    \n",
    "    def __init__(self, num_actions):\n",
    "        self.num_actions = num_actions\n",
    "\n",
    "    def deliberate(self):\n",
    "        # Takes a random action\n",
    "        return np.random.randint(self.num_actions)\n",
    "\n",
    "    def update(self):\n",
    "            pass"
   ]
  },
  {
   "cell_type": "code",
   "execution_count": null,
   "metadata": {},
   "outputs": [],
   "source": [
    "agent = my_new_BETTER_agent(3)"
   ]
  },
  {
   "cell_type": "markdown",
   "metadata": {},
   "source": [
    "> **PS:** As you can see, the framework does not require the modules to actually perform any operations—only that they are defined. For example, if your research focuses on agents that do not update themselves, you can simply define a dummy `update` module as shown above.\n",
    "\n",
    "## ECMs\n",
    "\n",
    "The second main building block of the library is the Episodic and Compositional Memory (ECM). An ECM is typically represented as a graph that stores percepts, encoding observations, internal knowledge, or actions. However, this library does not enforce any specific ECM structure.  \n",
    "\n",
    "The only compulsory module is:\n",
    "\n",
    " - `sample`: typically used to generate an action by performing a random walk through the ECM.  \n",
    "\n",
    "Let’s now briefly review what a typical ECM looks like, based on the abstract ECM class (a simplification of `projective_simulation.ECMs.core.Two_Layer`)."
   ]
  },
  {
   "cell_type": "code",
   "execution_count": null,
   "metadata": {},
   "outputs": [],
   "source": [
    "from projective_simulation.ECMs.core import Abstract_ECM"
   ]
  },
  {
   "cell_type": "code",
   "execution_count": null,
   "metadata": {},
   "outputs": [],
   "source": [
    "class ECM_2layers(Abstract_ECM):\n",
    "\n",
    "    def __init__(self,\n",
    "                 num_actions, # number of actions the agent performs from this ECM\n",
    "                 num_states # number of different states of the environment\n",
    "                ):\n",
    "        # Let's define a \"two-layer\" h-matrix (see learning PS tutorial for more).\n",
    "        self.hmatrix = np.random.rand(num_states, num_actions)\n",
    "\n",
    "    def sample(self, state):\n",
    "        # Sample greedly the action with the highest h-value\n",
    "        h_values = self.hmatrix[state]\n",
    "        action = h_values.argmax()  \n",
    "        return action"
   ]
  },
  {
   "cell_type": "code",
   "execution_count": null,
   "metadata": {},
   "outputs": [
    {
     "data": {
      "text/plain": [
       "np.int64(4)"
      ]
     },
     "execution_count": null,
     "metadata": {},
     "output_type": "execute_result"
    }
   ],
   "source": [
    "ecm = ECM_2layers(5,5)\n",
    "ecm.sample(2)"
   ]
  },
  {
   "cell_type": "markdown",
   "metadata": {},
   "source": [
    "And that is all that is fixed by the framwork, from here you are free to create agents and ECMs at will!"
   ]
  },
  {
   "cell_type": "code",
   "execution_count": null,
   "metadata": {},
   "outputs": [],
   "source": []
  },
  {
   "cell_type": "markdown",
   "metadata": {},
   "source": [
    "# Contributing to the `projective_simulation` library\n",
    "\n",
    "## The `nbdev` package\n",
    "\n",
    "This library is based on [`nbdev`](https://nbdev.fast.ai/). [This](https://fastai.github.io/jupytercon-2023/) is a nice tutorial on everything you need to learnd about it.\n",
    "\n",
    "In the rest of this notebook we will highlight the minimum needed from the library to contribute to the `projective_simulation`. In particular, we will show you the few magic commands that will allow us to create a python package from notebooks. \n",
    "\n",
    "## Installation\n",
    "\n",
    "Before starting to write your code, use `pip`to install the library. To do so, clone the repository and do a local installation of the package. For that, you just need to go to the repo's folder and run:\n",
    "\n",
    "```\n",
    "pip install -e .\n",
    "```\n",
    "\n",
    "## Write new code\n",
    "\n",
    "Now that you have the library installed, let's write some new code using Jupyter Notebooks. For the moment, let's do something simple and talk later about how to properly structure the library. Let's consider that we want to create, inside the library `projective_simulation`, a new module `utils` in which we will gather few useful functions.\n",
    "\n",
    "To tell `nbdev` that we want this notebook to do the previous, we use the `default_exp` magic command in the following way:\n",
    "\n",
    "> **Important**: any `nbdev` magic command must be preceded by `#|`"
   ]
  },
  {
   "cell_type": "code",
   "execution_count": null,
   "metadata": {},
   "outputs": [],
   "source": [
    "#| default_exp contributing_guide"
   ]
  },
  {
   "cell_type": "markdown",
   "metadata": {},
   "source": [
    "This will ensure the objects we create within this notebook will be exported to a `.py` file called `contributing_guide.py` within the package folder. You can find the latter in the parent repo folder with the name `projective_simulation` (the chosen name for the library).\n",
    "\n",
    "> **Important:** never write in those `.py`, as their content is automatically generated from the notebooks and any change there will be overwritten :) .\n",
    "\n",
    "Now let's write some proper code! We will create a function that we want to be contained in the module utils. To do so, we use the command `#| export` to tell `nbdev` that we want the content of this to go to the current module:"
   ]
  },
  {
   "cell_type": "code",
   "execution_count": null,
   "metadata": {},
   "outputs": [],
   "source": [
    "#| export\n",
    "import numpy as np\n",
    "\n",
    "def random_func(k): return k*np.random.rand()"
   ]
  },
  {
   "cell_type": "markdown",
   "metadata": {},
   "source": [
    "We need to actively export the current state of the notebook. To do so, you can either run `nbdev_export` in your terminal (inside the repo folder) or run the following cell:"
   ]
  },
  {
   "cell_type": "code",
   "execution_count": null,
   "metadata": {},
   "outputs": [],
   "source": [
    "import nbdev; nbdev.nbdev_export()"
   ]
  },
  {
   "cell_type": "code",
   "execution_count": null,
   "metadata": {},
   "outputs": [],
   "source": [
    "\n",
    "> **Important 1:** `nbdev_export` exports the current state of the notebooks in you library. This means the last saved version! While notebooks usually autosave, it is good practice to save the notebook before running the command.\n",
    "\n",
    "> **Important 2:** because I don't want this command to go to the module, I don't put the `#| export` command in the cell."
   ]
  },
  {
   "cell_type": "markdown",
   "metadata": {},
   "source": [
    "And that's it! If you are curious, you can go to the repo folder, then `projective_simulation/contributing_guide.py` and see that the content of the file is exactly the one in the cell above."
   ]
  },
  {
   "cell_type": "markdown",
   "metadata": {},
   "source": [
    "## Importing generated functions\n",
    "\n",
    "Because the package has been installed through `pip`, we can now import the function we just created. Let's see how. First, restart the notebook's kernel. Now, you can import the `random_func` function as:"
   ]
  },
  {
   "cell_type": "code",
   "execution_count": null,
   "metadata": {},
   "outputs": [],
   "source": [
    "from projective_simulation.contributing_guide import random_func"
   ]
  },
  {
   "cell_type": "code",
   "execution_count": null,
   "metadata": {},
   "outputs": [
    {
     "data": {
      "text/plain": [
       "0.31480691257004256"
      ]
     },
     "execution_count": null,
     "metadata": {},
     "output_type": "execute_result"
    }
   ],
   "source": [
    "random_func(2)"
   ]
  },
  {
   "cell_type": "markdown",
   "metadata": {},
   "source": [
    "## Contributing to the repo\n",
    "\n",
    "Notebooks have a lot of useless metadata in them (i.e. the count of the cell execution, the environment you are using,...). This would make impossible contribute to a shared repo, as for instance different contributors may be using different environment names, which would end up in a conflict. To avoid this, `nbdev` has  created hooks that deal with this problem (check their documentation if you want to know details). For now, you just need to do the following:\n",
    "\n",
    "- After installing `nbdev` (should have been done automatically when installing `projective_simulation` as I put it as a requirement), run the following in your terminal, inside the repo's folder:\n",
    "```\n",
    "nbdev_install_hooks\n",
    "```\n",
    "\n",
    "- **MOST IMPORTANTLY**, before pushing any changes to the origin, be sure to have done two things:\n",
    "  1) Export the changes you did in the notebook (see above)\n",
    "  2) Clean the metadata of your notebooks using the command `nbdev_clean`\n",
    " "
   ]
  }
 ],
 "metadata": {
  "kernelspec": {
   "display_name": "ps",
   "language": "python",
   "name": "ps"
  }
 },
 "nbformat": 4,
 "nbformat_minor": 4
}
