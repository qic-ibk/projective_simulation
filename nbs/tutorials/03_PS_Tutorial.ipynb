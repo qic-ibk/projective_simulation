{
 "cells": [
  {
   "cell_type": "markdown",
   "id": "3f03ec7f",
   "metadata": {},
   "source": [
    "# Tutorial: Create a Basic PS agent to play the invader game"
   ]
  },
  {
   "cell_type": "code",
   "execution_count": null,
   "id": "a7abe905",
   "metadata": {},
   "outputs": [
    {
     "ename": "ModuleNotFoundError",
     "evalue": "No module named 'projective_simulation.agents'",
     "output_type": "error",
     "traceback": [
      "\u001b[0;31m---------------------------------------------------------------------------\u001b[0m",
      "\u001b[0;31mModuleNotFoundError\u001b[0m                       Traceback (most recent call last)",
      "Cell \u001b[0;32mIn[2], line 2\u001b[0m\n\u001b[1;32m      1\u001b[0m \u001b[38;5;66;03m# Projective simulation must be installed locally for the following imports to work (see README!)\u001b[39;00m\n\u001b[0;32m----> 2\u001b[0m \u001b[38;5;28;01mfrom\u001b[39;00m\u001b[38;5;250m \u001b[39m\u001b[38;5;21;01mprojective_simulation\u001b[39;00m\u001b[38;5;21;01m.\u001b[39;00m\u001b[38;5;21;01magents\u001b[39;00m\u001b[38;5;250m \u001b[39m\u001b[38;5;28;01mimport\u001b[39;00m Basic_2Layer_Agent \u001b[38;5;28;01mas\u001b[39;00m PS_agent\n\u001b[1;32m      3\u001b[0m \u001b[38;5;28;01mfrom\u001b[39;00m\u001b[38;5;250m \u001b[39m\u001b[38;5;21;01mprojective_simulation\u001b[39;00m\u001b[38;5;21;01m.\u001b[39;00m\u001b[38;5;21;01menvironments\u001b[39;00m\u001b[38;5;250m \u001b[39m\u001b[38;5;28;01mimport\u001b[39;00m RLGL\n",
      "\u001b[0;31mModuleNotFoundError\u001b[0m: No module named 'projective_simulation.agents'"
     ]
    }
   ],
   "source": [
    "# Projective simulation must be installed locally for the following imports to work (see README!)\n",
    "from projective_simulation.agents import Basic_2Layer_Agent as PS_agent\n",
    "from projective_simulation.environments import RLGL"
   ]
  }
 ],
 "metadata": {
  "kernelspec": {
   "display_name": "python3",
   "language": "python",
   "name": "python3"
  }
 },
 "nbformat": 4,
 "nbformat_minor": 5
}
