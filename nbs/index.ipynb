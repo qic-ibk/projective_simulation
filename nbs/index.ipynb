{
 "cells": [
  {
   "cell_type": "markdown",
   "id": "93a7b2df-aadd-411d-b318-f6652d039927",
   "metadata": {},
   "source": [
    "# Projective Simulation"
   ]
  },
  {
   "cell_type": "markdown",
   "id": "ebcd4391-e352-4ca3-98f3-288c5c51b43c",
   "metadata": {},
   "source": [
    "<p align=\"center\">\n",
    "  <img width=\"250\" src=\"figs/ps_logo.png\">\n",
    "</p>\n",
    "<h3 align=\"center\"><em>Agency • Learning • Physics</em></h3>\n",
    "<p align=\"center\">\n",
    "  <a href=\"https://badge.fury.io/py/projective_simulation\"><img src=\"https://badge.fury.io/py/projective_simulation.svg\" alt=\"PyPI version\"></a>\n",
    "  <a href=\"https://badge.fury.io/py/projective_simulation\"><img src=\"https://img.shields.io/badge/python-3.10-red\" alt=\"Python version\"></a>\n",
    "</p>\n",
    "<p align=\"center\">\n",
    "  <a href=\"https://qic-ibk.github.io/projective_simulation/\">Get started</a> |\n",
    "  <a href=\"https://qic-ibk.github.io/projective_simulation/lib_nbs/index_docs.html\">Documentation</a> |\n",
    "  <a href=\"https://qic-ibk.github.io/projective_simulation/tutorials/index_tutorials.html\">Tutorials</a> \n",
    "</p>"
   ]
  },
  {
   "cell_type": "markdown",
   "id": "418e8e54-d40d-4e0b-b020-73f3152c3182",
   "metadata": {},
   "source": [
    "Projective Simulation (PS) is a framework for studying agency from a physical perspective. PS agents learn from interaction with their environment and base their decisions on **episodic memory**. Internally, their deliberation corresponds to **random walks on a clip network (graph)**, which provides an interpretable route to physical realizations and analysis. \n",
    "\n",
    "This library provides all the necessary tools to develop, deploy, and train PS agents in a variety of environments. Its content ranges from entry-level [tutorials](tutorials/index_tutorials.ipynb) introducing the core principles of PS to cutting-edge [research](webpage/research.ipynb) on the latest developments and applications. It is actively developed by the [QIC group at UIBK](https://www.uibk.ac.at/en/th-physik/qic-group/).\n",
    "\n",
    "## Installation\n",
    "\n",
    "Projective simulation is available for ```python>=3.10``` via\n",
    "\n",
    "```python\n",
    "pip install projective_simulation\n",
    "```\n",
    "\n",
    "This will also install all required dependencies.\n",
    "\n",
    "## Getting Started\n",
    "To begin exploring Projective Simulation, we recommend to start with the [tutorials](tutorials/index_tutorials.ipynb), which cover everything from the basics to more advanced applications.\n",
    "\n",
    "If you wish to develop or deploy PS agents, please refer to the [documetation](lib_nbs/index_docs.ipynb).\n",
    "\n",
    "## Contributing\n",
    "If you want to contribute to this library, please take a look at the [contributing tutorial](tutorials/contributing/00_contributing.ipynb).\n",
    "\n",
    "\n",
    "## Citing\n",
    "If you find this package useful in your projects, you can either cite the specific PS paper most relevant to your work (see a list [here](figs/PS_mindmap.html)) or use the following to cite the library as a whole:"
   ]
  },
  {
   "cell_type": "raw",
   "id": "fee4dfe1-f4d8-4b1d-b7de-004e030c56da",
   "metadata": {},
   "source": [
    "!soon!"
   ]
  }
 ],
 "metadata": {
  "kernelspec": {
   "display_name": "ps",
   "language": "python",
   "name": "ps"
  }
 },
 "nbformat": 4,
 "nbformat_minor": 5
}
