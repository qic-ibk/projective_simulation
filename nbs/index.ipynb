{
 "cells": [
  {
   "cell_type": "markdown",
   "id": "93a7b2df-aadd-411d-b318-f6652d039927",
   "metadata": {},
   "source": [
    "# Projective Simulation"
   ]
  },
  {
   "cell_type": "markdown",
   "id": "ebcd4391-e352-4ca3-98f3-288c5c51b43c",
   "metadata": {},
   "source": [
    "<p align=\"center\">\n",
    "  <img width=\"250\" src=\"figs/ps_logo.png\">\n",
    "</p>\n",
    "<h3 align=\"center\"><em>Agency • Learning • Physics</em></h3>\n",
    "<p align=\"center\">\n",
    "  <a href=\"https://badge.fury.io/py/projective_simulation\"><img src=\"https://badge.fury.io/py/projective_simulation.svg\" alt=\"PyPI version\"></a>\n",
    "  <a href=\"https://badge.fury.io/py/projective_simulation\"><img src=\"https://img.shields.io/badge/python-3.10-red\" alt=\"Python version\"></a>\n",
    "</p>\n",
    "<p align=\"center\">\n",
    "  <a href=\"https://qic-ibk.github.io/projective_simulation/\">Get started</a> |\n",
    "  <a href=\"https://qic-ibk.github.io/projective_simulation/lib_nbs/index_docs.html\">Documentation</a> |\n",
    "  <a href=\"https://qic-ibk.github.io/projective_simulation/tutorials/index_tutorials.html\">Tutorials</a> \n",
    "</p>"
   ]
  },
  {
   "cell_type": "markdown",
   "id": "418e8e54-d40d-4e0b-b020-73f3152c3182",
   "metadata": {},
   "source": [
    "Projective Simulation (PS) is a framework for studying agency from a physical perspective. PS agents learn from interaction with their environment and base their decisions on **episodic memory**. Internally, their deliberation corresponds to **random walks on a clip network (graph)**, which provides an interpretable route to physical realizations and analysis. \n",
    "\n",
    "This library all the necessary tools to develop, deploy and train PS agents in a variety of environments. Its content spans from entry-level [tutorials](tutorials/index_tutorials.ipynb) that introduce the core principles of PS to cutting-edge [research](webpage/research.ipynb) on the latest developments and applications. It is actively developed by the [QIC group at UIBK](https://www.uibk.ac.at/en/th-physik/qic-group/).\n",
    "\n",
    "\n",
    "## Installation\n",
    "\n",
    "Projective simulation is available for ```python>=3.10``` via\n",
    "\n",
    "```python\n",
    "pip install projective_simulation\n",
    "```\n",
    "\n",
    "This will also install the necessary library requirements.\n",
    "\n",
    "## Getting Started\n",
    "To begin exploring Projective Simulation, we recommend to start with the [tutorials](tutorials/index_tutorials.ipynb), which contain from the basics to more advance applications.\n",
    "\n",
    "If you want to develop or deploy PS agents, please check the [documetation](lib_nbs/index_docs.ipynb).\n",
    "\n",
    "\n",
    "## Citing\n",
    "If you found this package useful and used it in your projects, you can either the particular PS paper that you found most useful (see a list [here](figs/PS_mindmap.html)) or use the following to cite the whole library:"
   ]
  },
  {
   "cell_type": "code",
   "execution_count": null,
   "id": "d81c8657-e90b-4fd3-ad99-0f47e9686932",
   "metadata": {},
   "outputs": [],
   "source": [
    "here will be some zenodo link"
   ]
  }
 ],
 "metadata": {
  "kernelspec": {
   "display_name": "ps",
   "language": "python",
   "name": "ps"
  }
 },
 "nbformat": 4,
 "nbformat_minor": 5
}
