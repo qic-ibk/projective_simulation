{
 "cells": [
  {
   "cell_type": "markdown",
   "id": "19a2a706-236f-4b46-b77c-2b9a7fa527c4",
   "metadata": {},
   "source": [
    "<h1 align=\"center\">PS - Projective Simulation</h1>\n"
   ]
  },
  {
   "cell_type": "markdown",
   "id": "96e68df2-cb8b-4bc1-b17b-0a7bd3ed44fc",
   "metadata": {},
   "source": [
    "Here we will build the new repo release of Projective Simulation. To do so, we will use [`nbdev`](https://nbdev.fast.ai/). I tried to simplify as much as possible this repo in order to facilitate your contributions. If you found this text, it means that you reached the github repo. Next step is to clone it. Then go to the cloned folder and run:\n",
    "\n",
    "```\n",
    "pip install -e .\n",
    "```\n",
    "\n",
    "## Building the package\n",
    "\n",
    "I added `nbdev` to the requirements, so you are now ready to add your contributions to the PS library! To learn how, go to the two notebooks you will find in  `nbs/lib_nbs`.\n",
    "\n",
    "## Webpage documentation\n",
    "\n",
    "The documentation will directly be constructed from the notebooks you generated. As the repo is currently private, you can only check it locally. To do so, use the terminal to run:\n",
    "\n",
    "```\n",
    "nbdev_preview\n",
    "```\n",
    "\n",
    "This will generate the current version of the docs in the port `4200`. Go and check how that correlates to the notebooks!\n",
    "\n",
    "## Tutorials\n",
    "\n",
    "Aside of the documentation, it is also nice to give prospective users some tutorials to understand how the different tools work. You can include them in `nbs/tutorials`!\n"
   ]
  },
  {
   "cell_type": "code",
   "execution_count": null,
   "id": "d050ff74-1adf-4569-9af2-7f7694174032",
   "metadata": {},
   "outputs": [],
   "source": []
  }
 ],
 "metadata": {
  "kernelspec": {
   "display_name": "optimal_search",
   "language": "python",
   "name": "optimal_search"
  }
 },
 "nbformat": 4,
 "nbformat_minor": 5
}
