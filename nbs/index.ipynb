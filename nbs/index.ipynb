{
 "cells": [
  {
   "cell_type": "markdown",
   "id": "ebcd4391-e352-4ca3-98f3-288c5c51b43c",
   "metadata": {},
   "source": [
    "<h1 align=\"center\">PS - Projective Simulation</h1>\n"
   ]
  },
  {
   "cell_type": "markdown",
   "id": "418e8e54-d40d-4e0b-b020-73f3152c3182",
   "metadata": {},
   "source": [
    "README in construction!\n",
    "\n",
    "The README is automatically generated from `nbs/index.ipynb`. Any updates must happen there!"
   ]
  }
 ],
 "metadata": {
  "kernelspec": {
   "display_name": "andi",
   "language": "python",
   "name": "andi"
  },
  "language_info": {
   "codemirror_mode": {
    "name": "ipython",
    "version": 3
   },
   "file_extension": ".py",
   "mimetype": "text/x-python",
   "name": "python",
   "nbconvert_exporter": "python",
   "pygments_lexer": "ipython3",
   "version": "3.10.8"
  }
 },
 "nbformat": 4,
 "nbformat_minor": 5
}
