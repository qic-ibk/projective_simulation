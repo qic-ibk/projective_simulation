{
 "cells": [
  {
   "cell_type": "markdown",
   "id": "0a11085b-67a6-4bd0-b8d4-7fe62f543cd2",
   "metadata": {},
   "source": [
    "# Research"
   ]
  },
  {
   "cell_type": "markdown",
   "id": "7b6d74e0-142a-432a-ab4c-3f19b61586da",
   "metadata": {},
   "source": [
    "Here you can find a complete list of papers using PS:\n",
    "\n",
    "## 2025\n",
    "\n",
    "- [“Run-and-Tumble Particles Learning Chemotaxis”](https://arxiv.org/pdf/2507.23519) by *N. Tovazzi, G. Muñoz-Gil and *M. Caraglio* (2025). In this work we explore the ability of active particles to adapt their run-and-tumble strategy to reach targets, based on their chemotactic response, just as bacteria do in the real world!\n",
    "\n",
    "- [“Learning to reset in target search problems”](https://arxiv.org/abs/2503.11330) by *G. Muñoz-Gil, H. J. Briegel* and *M. Caraglio* (2025). Here we extended the agents to be able to\n",
    "  reset to the origin, a feature that has revolutionize target search problems in the last years.\n",
    "\n",
    "## 2024\n",
    "  \n",
    "- [\"Learning how to find targets in the micro-world: the case of intermittent active Brownian particles\"](https://pubs.rsc.org/en/content/articlehtml/2024/sm/d3sm01680c) by *M. Caraglio, H. Kaur, L. Fiderer, A. López-Incera, H. J. Briegel, T. Franosch*, and *G. Muñoz-Gil* (2024). In this case, we study the ability of agents to learn how to switch from passive to active diffusion to enhance their target search efficiency.\n",
    "  \n",
    "- [“Optimal foraging strategies can be learned”](https://iopscience.iop.org/article/10.1088/1367-2630/ad19a8) by *G. Muñoz-Gil, A. López-Incera, L. J. Fiderer* and *H. J. Briegel* (2024). Here we developed\n",
    "  agents able to learn how to forage efficiently in environments with multiple targets.\n",
    "\n",
    "\n",
    "\n",
    "\n"
   ]
  },
  {
   "cell_type": "code",
   "execution_count": null,
   "id": "d501b3fd-98c7-4128-aabf-b451f5f77a4c",
   "metadata": {},
   "outputs": [],
   "source": []
  }
 ],
 "metadata": {
  "kernelspec": {
   "display_name": "Python 3 (ipykernel)",
   "language": "python",
   "name": "python3"
  },
  "language_info": {
   "codemirror_mode": {
    "name": "ipython",
    "version": 3
   },
   "file_extension": ".py",
   "mimetype": "text/x-python",
   "name": "python",
   "nbconvert_exporter": "python",
   "pygments_lexer": "ipython3",
   "version": "3.9.12"
  }
 },
 "nbformat": 4,
 "nbformat_minor": 5
}
