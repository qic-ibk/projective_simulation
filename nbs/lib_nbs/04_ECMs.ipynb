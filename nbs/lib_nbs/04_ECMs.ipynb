{
 "cells": [
  {
   "cell_type": "code",
   "execution_count": null,
   "id": "4c6c27c4-41b7-4367-814f-1ac318d674fb",
   "metadata": {},
   "outputs": [],
   "source": [
    "#| default_exp ECMs.abstract_ECM"
   ]
  },
  {
   "cell_type": "code",
   "execution_count": null,
   "id": "8ea1d597-03d0-481a-9278-3570ab8ee12f",
   "metadata": {},
   "outputs": [],
   "source": [
    "#| export\n",
    "\n",
    "from sys import version_info\n",
    "\n",
    "if version_info >= (3, 4):  # compatibility\n",
    "    from abc import ABC, abstractmethod\n",
    "    ABC = ABC\n",
    "else:\n",
    "    from abc import ABCMeta, abstractmethod\n",
    "    ABC = ABCMeta('ABC', (), {})\n",
    "\n",
    "class ECM(ABC):\n",
    "    \"\"\"A minimal ECM, every agent should be Derived from this class. Primarily serves to enforce that all ECMs have the \"ECM\" class\n",
    "\n",
    "    Examples:\n",
    "    >>> pass\n",
    "    \"\"\"\n",
    "\n",
    "    @abstractmethod\n",
    "    def __init__(self, num_actions: int):\n",
    "        \"\"\"\n",
    "        Args:\n",
    "            ECM: The ECM Object to use\n",
    "            percept_processor: An optional object for transforming observations prior to passing to ECM as a percept. Must have method \"preprocess\"\n",
    "            action_processor: An optional object for transforming actions prior to passing to Environment as an actuator state. Must have method \"postprocess\"            \n",
    "        \"\"\"\n",
    "        raise NotImplementedError\n",
    "\n",
    "    @abstractmethod\n",
    "    def deliberate(self, percept: str):\n",
    "        \"\"\"\n",
    "        Args:\n",
    "            percept: A string corresponding to an existing or new (will be added) key in the ECM percept dictionary\n",
    "        \"\"\"\n",
    "        raise NotImplementedError"
   ]
  }
 ],
 "metadata": {
  "kernelspec": {
   "display_name": "python3",
   "language": "python",
   "name": "python3"
  }
 },
 "nbformat": 4,
 "nbformat_minor": 5
}
