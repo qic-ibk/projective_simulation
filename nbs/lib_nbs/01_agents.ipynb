{
 "cells": [
  {
   "cell_type": "code",
   "execution_count": 10,
   "id": "df201624-2dd7-4d78-8d6f-f6ce3a7f5534",
   "metadata": {},
   "outputs": [],
   "source": [
    "#| default_exp agents"
   ]
  },
  {
   "cell_type": "code",
   "execution_count": 11,
   "id": "aa7498ef",
   "metadata": {},
   "outputs": [
    {
     "name": "stdout",
     "output_type": "stream",
     "text": [
      "The autoreload extension is already loaded. To reload it, use:\n",
      "  %reload_ext autoreload\n"
     ]
    }
   ],
   "source": [
    "#| hide\n",
    "%load_ext autoreload\n",
    "%autoreload 2"
   ]
  },
  {
   "cell_type": "markdown",
   "id": "02227e84",
   "metadata": {},
   "source": [
    "# Agents\n",
    "\n",
    "This module contains different types of Projective Simulation agents."
   ]
  },
  {
   "cell_type": "markdown",
   "id": "003f1769-9b61-4682-b92a-a100bb2e1778",
   "metadata": {},
   "source": [
    "#| hide \n",
    "\n",
    "# Abstract Agent"
   ]
  },
  {
   "cell_type": "code",
   "execution_count": 12,
   "id": "13e8241b-5066-427f-9ca7-1b4ab9603b7d",
   "metadata": {},
   "outputs": [
    {
     "ename": "ModuleNotFoundError",
     "evalue": "No module named 'projective_simulation'",
     "output_type": "error",
     "traceback": [
      "\u001b[0;31m---------------------------------------------------------------------------\u001b[0m",
      "\u001b[0;31mModuleNotFoundError\u001b[0m                       Traceback (most recent call last)",
      "Cell \u001b[0;32mIn[12], line 2\u001b[0m\n\u001b[1;32m      1\u001b[0m \u001b[38;5;66;03m#| export\u001b[39;00m\n\u001b[0;32m----> 2\u001b[0m \u001b[38;5;28;01mfrom\u001b[39;00m\u001b[38;5;250m \u001b[39m\u001b[38;5;21;01mprojective_simulation\u001b[39;00m\u001b[38;5;21;01m.\u001b[39;00m\u001b[38;5;21;01mmethods\u001b[39;00m\u001b[38;5;21;01m.\u001b[39;00m\u001b[38;5;21;01mlib_helpers\u001b[39;00m\u001b[38;5;250m \u001b[39m\u001b[38;5;28;01mimport\u001b[39;00m CustomABCMeta\n\u001b[1;32m      3\u001b[0m \u001b[38;5;28;01mfrom\u001b[39;00m\u001b[38;5;250m \u001b[39m\u001b[38;5;21;01mabc\u001b[39;00m\u001b[38;5;250m \u001b[39m\u001b[38;5;28;01mimport\u001b[39;00m abstractmethod\n\u001b[1;32m      5\u001b[0m \u001b[38;5;28;01mclass\u001b[39;00m\u001b[38;5;250m \u001b[39m\u001b[38;5;21;01mAbstract_Agent\u001b[39;00m(metaclass \u001b[38;5;241m=\u001b[39m CustomABCMeta):\n",
      "\u001b[0;31mModuleNotFoundError\u001b[0m: No module named 'projective_simulation'"
     ]
    }
   ],
   "source": [
    "#| export\n",
    "from projective_simulation.methods.lib_helpers import CustomABCMeta\n",
    "from abc import abstractmethod\n",
    "\n",
    "class Abstract_Agent(metaclass = CustomABCMeta):\n",
    "    \"\"\"\n",
    "    Abstract agent class any PS agent should be derived from. Asserts that the necessary methods are implemented.\n",
    "    \"\"\"\n",
    "\n",
    "    def __init__(self, \n",
    "                 ECM = None, #The ECM Object to use\n",
    "                 percept_processor = None, #An optional object for transforming observations prior to passing to ECM as a percept. Must have method \"preprocess\" \n",
    "                 action_processor = None #An optional object for transforming actions prior to passing to Environment as an actuator state. Must have method \"postprocess\" \n",
    "                ):\n",
    "        self.ECM = ECM\n",
    "        assert ECM is not None\n",
    "\n",
    "        self.percept_processor = percept_processor\n",
    "        if percept_processor is not None:\n",
    "            assert hasattr(percept_processor, \"preproccess\")\n",
    "\n",
    "        self.action_processor = action_processor\n",
    "        if action_processor is not None:\n",
    "            assert hasattr(action_processor, \"postprocess\")  \n",
    "\n",
    "    @abstractmethod\n",
    "    def update(self):\n",
    "        ''' Updates the internal structure of the agent, typically by updating its ECM.'''\n",
    "        pass\n",
    "    \n",
    "    @abstractmethod\n",
    "    def deliberate(self):\n",
    "        ''' Returns the action to be taken by the agent. Typically, this would involve getting a state from the environment, \n",
    "        passing it through the percept processor, passing it to the ECM, and then passing the output through the action processor if needed.'''\n",
    "        pass\n",
    "    \n",
    "    "
   ]
  },
  {
   "cell_type": "code",
   "execution_count": null,
   "id": "7d9c9ed9-9565-4ce7-a74f-805512a386ad",
   "metadata": {},
   "outputs": [
    {
     "name": "stdout",
     "output_type": "stream",
     "text": [
      "Got the expected TypeError, test passed.\n"
     ]
    }
   ],
   "source": [
    "#| hide\n",
    "\n",
    "### Test ###\n",
    "\n",
    "class test_abstract(Abstract_Agent):\n",
    "\n",
    "    def __init__(self, ECM = 1):\n",
    "        super().__init__(ECM = ECM)\n",
    "\n",
    "    def update(self, lr = 10):\n",
    "        return 0\n",
    "    \n",
    "    # Here we consider that we didn't implement the deliberate method\n",
    "    # def deliberate(self):\n",
    "    #     pass\n",
    "    \n",
    "\n",
    "try:\n",
    "    agent = test_abstract()  # This should raise a TypeError\n",
    "except TypeError:\n",
    "    print(\"Got the expected TypeError, test passed.\")\n",
    "else:\n",
    "    raise AssertionError(\"TestAgent() did NOT raise TypeError but it should have.\") "
   ]
  },
  {
   "cell_type": "markdown",
   "id": "da9cdee4-0d32-4471-a98d-f27cb76fc165",
   "metadata": {},
   "source": [
    "#| hide\n",
    "# Basic Agent"
   ]
  },
  {
   "cell_type": "code",
   "execution_count": null,
   "id": "2d086888-64e3-45a8-b18c-504da1f1ad6a",
   "metadata": {},
   "outputs": [],
   "source": [
    "#| export\n",
    "class Basic_Agent(Abstract_Agent):\n",
    "    \n",
    "    def __init__(self, \n",
    "                 ECM : object, #if an ECM object is not given, num_actions must an integer\n",
    "                 percept_processor : object = None # Preprocessor object for transforming observations prior to passing to ECM as a percept. Must have method \"preprocess\"\n",
    "                ):\n",
    "        \"\"\"\n",
    "        Simple, projective simulation (PS). Percepts are added to the ECM as new obsevations are encountered\n",
    "        \n",
    "        \"\"\"\n",
    "        self.ECM = ECM\n",
    "\n",
    "        if percept_processor is not None:\n",
    "            self.percept_processor = percept_processor\n",
    "            assert hasattr(self.percept_processor, \"preprocess\")    \n",
    "        else:\n",
    "            self.percept_processor = None  \n",
    "\n",
    "        super().__init__(ECM = self.ECM, percept_processor = percept_processor)  \n",
    "        \n",
    "        \n",
    "    def deliberate(self, \n",
    "                observation: object # Data object passed from the environment/sensors\n",
    "               )-> int : # Action to be performed.\n",
    "        \"\"\"\n",
    "        Given an observation, returns an action. \n",
    "        \"\"\"\n",
    "        if self.percept_processor is not None:\n",
    "            percept = self.percept_processor(observation)\n",
    "        else:\n",
    "            percept = observation\n",
    "\n",
    "        action = self.ECM.sample(percept)\n",
    "\n",
    "        return action\n",
    "\n",
    "    def update(self, \n",
    "               reward #Value used for reinforcement. Likely a float\n",
    "              ):\n",
    "        \"\"\"\n",
    "        Given a reward, updates the ECM parameters\n",
    "        \"\"\"\n",
    "        self.ECM.learn(reward)"
   ]
  },
  {
   "cell_type": "code",
   "execution_count": null,
   "id": "a9e1b1bc",
   "metadata": {},
   "outputs": [],
   "source": [
    "#| hide\n",
    "\n",
    "from projective_simulation.ECMs import Two_Layer"
   ]
  },
  {
   "cell_type": "code",
   "execution_count": null,
   "id": "5d2a725c",
   "metadata": {},
   "outputs": [
    {
     "data": {
      "text/plain": [
       "np.int64(0)"
      ]
     },
     "execution_count": null,
     "metadata": {},
     "output_type": "execute_result"
    }
   ],
   "source": [
    "#| hide\n",
    "\n",
    "agent = Basic_Agent(ECM = Two_Layer(num_actions = 2, g_damp=1, h_damp = 1))\n",
    "agent.deliberate(0)"
   ]
  },
  {
   "cell_type": "markdown",
   "id": "3d9375d4",
   "metadata": {},
   "source": [
    "#| hide \n",
    "\n",
    "## Two layer Basic PS"
   ]
  },
  {
   "cell_type": "code",
   "execution_count": null,
   "id": "6bf4006d",
   "metadata": {},
   "outputs": [],
   "source": [
    "#| export\n",
    "from projective_simulation.ECMs import Two_Layer\n",
    "\n",
    "class Basic_2Layer_Agent(Basic_Agent):\n",
    "    def __init__(self, \n",
    "                 num_actions : int, # The number of available actions. If ECM = is not given, must be int\n",
    "                 glow: float = 0.1, # The glow (or eta) parameter. Won't be used if ECM is given\n",
    "                 damp: float = 0., # The damping (or gamma) parameter. Won't be used if ECM is given\n",
    "                 glow_method: str = 'sum', # The method for updating the glow. See ECMs.Two_Layer for details\n",
    "                 policy : str = 'greedy', # The policy to use. See ECMs.Two_Layer for details\n",
    "                 policy_parameters : dict = None, # The parameters for the policy. See ECMs.Two_Layer for details\n",
    "                 percept_processor = None\n",
    "                ):\n",
    "        \"\"\"\n",
    "        Basic PS agent with a two layer ECM. Percepts are added to the ECM as new obsevations are encountered.        \n",
    "        \"\"\"\n",
    "\n",
    "        self.ECM = Two_Layer(num_actions = num_actions, \n",
    "                            g_damp = glow,\n",
    "                            h_damp =  damp,\n",
    "                            glow_method = glow_method,\n",
    "                            policy = policy, \n",
    "                            policy_parameters = policy_parameters)\n",
    "        \n",
    "        super().__init__(ECM = self.ECM, percept_processor = percept_processor)"
   ]
  },
  {
   "cell_type": "code",
   "execution_count": null,
   "id": "a542e0d5",
   "metadata": {},
   "outputs": [
    {
     "data": {
      "text/plain": [
       "np.int64(0)"
      ]
     },
     "execution_count": null,
     "metadata": {},
     "output_type": "execute_result"
    }
   ],
   "source": [
    "#| hide\n",
    "Agent_2L = Basic_2Layer_Agent(num_actions = 2)\n",
    "Agent_2L.deliberate(0)"
   ]
  },
  {
   "cell_type": "markdown",
   "id": "8f36ea1b",
   "metadata": {},
   "source": [
    "#| hide\n",
    "# nbdev export"
   ]
  },
  {
   "cell_type": "code",
   "execution_count": null,
   "id": "48edd16c",
   "metadata": {},
   "outputs": [],
   "source": [
    "#| hide\n",
    "import nbdev; nbdev.nbdev_export()"
   ]
  }
 ],
 "metadata": {
  "kernelspec": {
   "display_name": "FEPS_2",
   "language": "python",
   "name": "python3"
  },
  "language_info": {
   "codemirror_mode": {
    "name": "ipython",
    "version": 3
   },
   "file_extension": ".py",
   "mimetype": "text/x-python",
   "name": "python",
   "nbconvert_exporter": "python",
   "pygments_lexer": "ipython3",
   "version": "3.13.5"
  }
 },
 "nbformat": 4,
 "nbformat_minor": 5
}
