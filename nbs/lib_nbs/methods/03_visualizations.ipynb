{
 "cells": [
  {
   "cell_type": "code",
   "execution_count": null,
   "id": "11ff3c04-5695-456b-965c-d2800451ae28",
   "metadata": {},
   "outputs": [],
   "source": [
    "#| default_exp methods.visualization"
   ]
  },
  {
   "cell_type": "code",
   "execution_count": null,
   "id": "84efac59-64ac-4de5-bd01-4ace67e7545f",
   "metadata": {},
   "outputs": [],
   "source": [
    "#| export\n",
    "import numpy as np\n",
    "import matplotlib.pyplot as plt\n",
    "import scipy.stats as stats"
   ]
  },
  {
   "cell_type": "markdown",
   "id": "10cca66e-413e-45bb-bc17-549b012558e6",
   "metadata": {},
   "source": [
    "# Boxplot Summary"
   ]
  },
  {
   "cell_type": "code",
   "execution_count": null,
   "id": "895dfc32-e650-4893-a060-5cb6f62197e1",
   "metadata": {},
   "outputs": [],
   "source": [
    "#| export\n",
    "\n",
    "def simulation_boxplot_summary(data, \n",
    "                               param1_values, \n",
    "                               param2_values, \n",
    "                               title, \n",
    "                               ylabel, \n",
    "                               parameter_names = ['Paramter 1', 'Parameter 2'],\n",
    "                               legend_loc = 2,\n",
    "                               legend_cols = 3,\n",
    "                               legend_fontsize = 12\n",
    "                              ):\n",
    "    '''\n",
    "    data: 3D array, with simulation results. First two dimensions give value of a simulation parameter, third dimension gives the simulation number.\n",
    "    '''\n",
    "\n",
    "\n",
    "    \n",
    "    A = np.shape(data)[0] #param1\n",
    "    B = np.shape(data)[1] #param2\n",
    "    C = np.shape(data)[2] #simulations\n",
    "    # Define colors for B indices\n",
    "    colors = plt.cm.viridis(np.linspace(0, 1, B))  # B distinct colors\n",
    "    \n",
    "    d = 3 #priming softmax index\n",
    "    for b in range(B):\n",
    "        box_data = [data[a, b, :] for a in range(A)]\n",
    "        positions = np.arange(A) + (b - B / 2) * 0.1  # Adjust positions to avoid overlap\n",
    "        plt.boxplot(box_data, positions=positions, widths=0.1, patch_artist=True, \n",
    "                    boxprops=dict(facecolor=colors[b], alpha=0.6), \n",
    "                    medianprops=dict(color='black'))\n",
    "        # Calculate and add 95% credible interval error bars\n",
    "        for a in range(A):\n",
    "            mean_val = np.mean(data[a, b, :])\n",
    "            ci_low, ci_high = stats.t.interval(0.95, df=C-1, loc=mean_val, scale=stats.sem(data[a, b, :]))\n",
    "            plt.errorbar(positions[a], mean_val, yerr=[[mean_val - ci_low], [ci_high - mean_val]], fmt='o', color='black')\n",
    "    \n",
    "    # Create legend\n",
    "    legend_patches = [plt.Line2D([0], [0], color=colors[b], lw=4, label=f'{parameter_names[1]}={param2_values[b]}') for b in range(B)]\n",
    "    plt.legend(handles=legend_patches, loc = legend_loc, ncol = legend_cols, fontsize = legend_fontsize)\n",
    "    plt.title(title)\n",
    "    plt.ylabel(ylabel)\n",
    "    plt.xlabel(parameter_names[0])\n",
    "    plt.xticks(range(A), labels=[f\"{param1_values[a]}\" for a in range(A)])"
   ]
  }
 ],
 "metadata": {
  "kernelspec": {
   "display_name": "python3",
   "language": "python",
   "name": "python3"
  }
 },
 "nbformat": 4,
 "nbformat_minor": 5
}
