{
 "cells": [
  {
   "cell_type": "code",
   "execution_count": null,
   "id": "6a244afa",
   "metadata": {},
   "outputs": [],
   "source": [
    "#| default_exp lib_helpers  "
   ]
  },
  {
   "cell_type": "markdown",
   "id": "68d11e78",
   "metadata": {},
   "source": [
    "# Library helpers\n",
    "\n",
    "This module contains objetcs that help the meta-construction of the library, as e.g. helping raise errors when needed."
   ]
  },
  {
   "cell_type": "code",
   "execution_count": null,
   "id": "d440cdce",
   "metadata": {},
   "outputs": [],
   "source": [
    "#| export\n",
    "\n",
    "from abc import ABCMeta\n",
    "\n",
    "\n",
    "class CustomABCMeta(ABCMeta):\n",
    "    def __call__(cls, *args, **kwargs):\n",
    "        # If cls still has abstract methods, build a custom message\n",
    "        if cls.__abstractmethods__:\n",
    "            missing = ', '.join(sorted(cls.__abstractmethods__))\n",
    "            raise TypeError(\n",
    "                f\"Cannot instantiate class {cls.__name__} \"\n",
    "                f\"because it is missing method(s): {missing}.\\n\"\n",
    "                f\"Please implement all abstract methods (see documentation of class for details).\"\n",
    "            )\n",
    "        # Otherwise, call the normal __call__ to instantiate\n",
    "        return super().__call__(*args, **kwargs)"
   ]
  },
  {
   "cell_type": "markdown",
   "id": "3011759a",
   "metadata": {},
   "source": [
    "#| hide\n",
    "# nbdev export"
   ]
  },
  {
   "cell_type": "code",
   "execution_count": null,
   "id": "23b782c7",
   "metadata": {},
   "outputs": [],
   "source": [
    "#| hide\n",
    "import nbdev; nbdev.nbdev_export()"
   ]
  }
 ],
 "metadata": {
  "kernelspec": {
   "display_name": "python3",
   "language": "python",
   "name": "python3"
  }
 },
 "nbformat": 4,
 "nbformat_minor": 5
}
