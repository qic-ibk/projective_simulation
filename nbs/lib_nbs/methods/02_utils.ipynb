{
 "cells": [
  {
   "cell_type": "code",
   "execution_count": null,
   "id": "e76e2847-da50-4d0f-b2f2-8dda0029b65e",
   "metadata": {},
   "outputs": [],
   "source": [
    "#| default_exp utils"
   ]
  },
  {
   "cell_type": "code",
   "execution_count": null,
   "id": "0f769033-7e42-4b16-8763-08eadb1c12d3",
   "metadata": {},
   "outputs": [],
   "source": [
    "#| export\n",
    "import numpy as np\n",
    "def _softmax(beta, x):\n",
    "        \"\"\"\n",
    "        Given an input, calculates the normalized exponential function.\n",
    "        \"\"\"\n",
    "        # rescale exponential to avoid large numbers\n",
    "        rescale = max(x)\n",
    "        exp_x = np.exp(beta *(x-rescale))\n",
    "        # get normalization\n",
    "        norm = sum(exp_x)\n",
    "        # calculate normalized exponential\n",
    "        softmax_x = exp_x/norm\n",
    "\n",
    "        return softmax_x"
   ]
  }
 ],
 "metadata": {
  "kernelspec": {
   "display_name": "Python 3 (ipykernel)",
   "language": "python",
   "name": "python3"
  },
  "language_info": {
   "codemirror_mode": {
    "name": "ipython",
    "version": 3
   },
   "file_extension": ".py",
   "mimetype": "text/x-python",
   "name": "python",
   "nbconvert_exporter": "python",
   "pygments_lexer": "ipython3",
   "version": "3.12.0"
  }
 },
 "nbformat": 4,
 "nbformat_minor": 5
}
