{
 "cells": [
  {
   "cell_type": "code",
   "execution_count": null,
   "id": "e76e2847-da50-4d0f-b2f2-8dda0029b65e",
   "metadata": {},
   "outputs": [],
   "source": [
    "#| default_exp transforms"
   ]
  },
  {
   "cell_type": "code",
   "execution_count": null,
   "id": "0f769033-7e42-4b16-8763-08eadb1c12d3",
   "metadata": {},
   "outputs": [],
   "source": [
    "#| export\n",
    "import numpy as np\n",
    "def _softmax(beta, x):\n",
    "        \"\"\"\n",
    "        Given an input, calculates the normalized exponential function.\n",
    "        \"\"\"\n",
    "        # rescale exponential to avoid large numbers\n",
    "        rescale = max(x)\n",
    "        exp_x = np.exp(beta *(x-rescale))\n",
    "        # get normalization\n",
    "        norm = sum(exp_x)\n",
    "        # calculate normalized exponential\n",
    "        softmax_x = exp_x/norm\n",
    "\n",
    "        return softmax_x\n",
    "\n",
    "def _logistic(x, L:float = 1,k:float = 1,x_shift = 0,y_shift:float = 0):\n",
    "    return [L/(1 + np.exp(-k*(xi-x_shift))) + y_shift for xi in x]"
   ]
  }
 ],
 "metadata": {
  "kernelspec": {
   "display_name": "python3",
   "language": "python",
   "name": "python3"
  }
 },
 "nbformat": 4,
 "nbformat_minor": 5
}
