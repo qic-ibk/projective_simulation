{
 "cells": [
  {
   "cell_type": "code",
   "execution_count": null,
   "id": "d1cc9571-7db1-4b94-a383-c154204a7d21",
   "metadata": {},
   "outputs": [],
   "source": [
    "#| default_exp methods.preprocessors"
   ]
  },
  {
   "cell_type": "code",
   "execution_count": null,
   "id": "8fc75263-8588-4218-af45-f43d33fe9d6c",
   "metadata": {},
   "outputs": [],
   "source": [
    "#| export\n",
    "\n",
    "def get_percept(observation):\n",
    "    percept = str(observation)\n",
    "    return(percept)"
   ]
  }
 ],
 "metadata": {
  "kernelspec": {
   "display_name": "python3",
   "language": "python",
   "name": "python3"
  }
 },
 "nbformat": 4,
 "nbformat_minor": 5
}
