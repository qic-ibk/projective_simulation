{
 "cells": [
  {
   "cell_type": "code",
   "execution_count": null,
   "id": "d1cc9571-7db1-4b94-a383-c154204a7d21",
   "metadata": {},
   "outputs": [],
   "source": [
    "#| default_exp methods.preprocessors"
   ]
  },
  {
   "cell_type": "code",
   "execution_count": null,
   "id": "8fc75263-8588-4218-af45-f43d33fe9d6c",
   "metadata": {},
   "outputs": [],
   "source": [
    "#| export\n",
    "\n",
    "def add_percepts(ECM, observation):\n",
    "    assert type(ECM, ECM.Two_Layer)\n",
    "    percept = str(observation)\n",
    "    if percept not in ECM.percepts.keys():\n",
    "            # add new percept\n",
    "            ECM.percepts[percept] = ECM.num_percepts\n",
    "            # increment number of percepts\n",
    "            ECM.num_percepts += 1\n",
    "            # add column to h-matrix\n",
    "            ECM.hmatrix = np.append(ECM.hmatrix, \n",
    "                                     np.ones([1,ECM.num_actions]),\n",
    "                                     axis=0)\n",
    "            # add column to g-matrix\n",
    "            ECM.gmatrix = np.append(ECM.gmatrix, \n",
    "                                     np.zeros([1,ECM.num_actions]),\n",
    "                                     axis=0)\n",
    "    return(percept)"
   ]
  }
 ],
 "metadata": {
  "kernelspec": {
   "display_name": "Python 3 (ipykernel)",
   "language": "python",
   "name": "python3"
  },
  "language_info": {
   "codemirror_mode": {
    "name": "ipython",
    "version": 3
   },
   "file_extension": ".py",
   "mimetype": "text/x-python",
   "name": "python",
   "nbconvert_exporter": "python",
   "pygments_lexer": "ipython3",
   "version": "3.12.0"
  }
 },
 "nbformat": 4,
 "nbformat_minor": 5
}
