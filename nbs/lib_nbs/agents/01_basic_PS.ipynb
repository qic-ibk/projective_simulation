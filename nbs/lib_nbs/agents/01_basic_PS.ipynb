{
 "cells": [
  {
   "cell_type": "code",
   "execution_count": null,
   "id": "2b355a51-6ded-4f9e-9edf-576e6b2cccf3",
   "metadata": {},
   "outputs": [],
   "source": [
    "#| default_exp agents.basic_PS"
   ]
  },
  {
   "cell_type": "markdown",
   "id": "0784f52d-f60c-4bc8-80d2-b82ebae3b877",
   "metadata": {},
   "source": [
    "# Basic PS\n",
    "> This notebook gathers the most basic implementation of PS\n",
    "\n"
   ]
  },
  {
   "cell_type": "code",
   "execution_count": null,
   "id": "99d62e94-f496-4378-ae6c-2f5d1e83bb36",
   "metadata": {},
   "outputs": [],
   "source": [
    "#| export\n",
    "\n",
    "import numpy as np\n",
    "from projective_simulation.agents.abstract_agent import PS_Agent\n",
    "from projective_simulation.ECMs.two_layer import Two_Layer\n",
    "from projective_simulation.methods.preprocessors import get_percept\n",
    "from projective_simulation.utils import _softmax\n",
    "\n",
    "\n",
    "class Basic_PSAgent(PS_Agent):\n",
    "    def __init__(self, \n",
    "                 ECM = None, #an ECM object is not given, a number of actions must be given with whi\n",
    "                 num_actions = None, # The number of available actions. If an ECM is not given, should be int\n",
    "                 glow: float = 0.1, # The glow (or eta) parameter. Won't be used if ECM is given\n",
    "                 damp: float = 0., # The damping (or gamma) parameter. Won't be used if ECM is given\n",
    "                 softmax: float = 0.1, # The softmax (or beta) parameter. Won't be used if ECM is given\n",
    "                 percept_processor = get_percept, \n",
    "                 action_processor = None\n",
    "                ):\n",
    "        \"\"\"\n",
    "        Simple, projective simulation (PS) agent that uses a two-layer ECM. Percepts are added to the ECM as new obsevations are encountered\n",
    "                      \n",
    "        NOTE: This simple version misses some features such as clip deletion, emotion tags or generalization mechanisms.\n",
    "        \n",
    "        \"\"\"\n",
    "        assert isinstance(ECM, Two_Layer) or isinstance(num_actions, int)\n",
    "        if ECM is None:\n",
    "            self.ECM = Two_Layer(num_actions, glow, damp, softmax)\n",
    "        else:\n",
    "            self.ECM = ECM\n",
    "\n",
    "        self.percept_processor = percept_processor        \n",
    "        \n",
    "        \n",
    "    def get_action(self, \n",
    "                observation: object # .\n",
    "               )-> int : # The action to be performed.\n",
    "        \"\"\"\n",
    "        Given a percept, returns an action. For basic PS, these processess are mainly executed by the ECM's deliberate function\n",
    "        \"\"\"\n",
    "        percept = self.percept_processor(observation)\n",
    "        action = self.ECM.deliberate(percept)\n",
    "        return action\n",
    "\n",
    "    def update(self, reward):\n",
    "        \"\"\"\n",
    "        Given a reward, updates h-matrix. Updates g-matrix with glow.\n",
    "        \"\"\"\n",
    "        # damping h-matrix\n",
    "        self.ECM.hmatrix = self.ECM.hmatrix - self.ECM.damp*(self.ECM.hmatrix-1.)\n",
    "        # update h-matrix\n",
    "        self.ECM.hmatrix += reward*self.ECM.gmatrix\n",
    "        # update g-matrix\n",
    "        self.ECM.gmatrix = (1-self.ECM.glow)*self.ECM.gmatrix\n",
    "\n",
    "    \n"
   ]
  },
  {
   "cell_type": "markdown",
   "id": "e90e79e6-231d-4156-8b40-4eaa9df86bee",
   "metadata": {},
   "source": [
    "## Properly documenting your functions\n",
    "\n",
    "In the class above you will see the preferred way of documenting your code (I have only done so for the main class and the funcion `predict`. It is based in [`docments`](https://fastcore.fast.ai/docments.html). As you will see, this translates directly into a nice webpage documentation. Nonetheless, [`sphynx`](https://www.sphinx-doc.org/en/master/usage/extensions/example_numpy.html) type documentation is also supported (and helpful when having very long descriptions).\n",
    "\n",
    "To see how the documentation will look like, you can use:"
   ]
  },
  {
   "cell_type": "code",
   "execution_count": null,
   "id": "90053a4f-4baf-4038-9442-399d52ed2aa1",
   "metadata": {},
   "outputs": [],
   "source": [
    "from nbdev import show_doc"
   ]
  },
  {
   "cell_type": "code",
   "execution_count": null,
   "id": "fccfa7f1-ad52-49ab-9e83-6a3e7123c1c4",
   "metadata": {},
   "outputs": [
    {
     "data": {
      "text/markdown": [
       "---\n",
       "\n",
       "[source](https://github.com/{user}/projective_simulation/blob/master/projective_simulation/agents/basic_PS.py#L16){target=\"_blank\" style=\"float:right; font-size:smaller\"}\n",
       "\n",
       "### Basic_PSAgent\n",
       "\n",
       ">      Basic_PSAgent (ECM=None, num_actions=None, glow:float=0.1,\n",
       ">                     damp:float=0.0, softmax:float=0.1,\n",
       ">                     percept_processor=<function get_percept>,\n",
       ">                     action_processor=None)\n",
       "\n",
       "*A minimal class every agent should fullfill, every agent should be Derived from this class\n",
       "\n",
       "Examples:\n",
       ">>> pass*\n",
       "\n",
       "|    | **Type** | **Default** | **Details** |\n",
       "| -- | -------- | ----------- | ----------- |\n",
       "| ECM | NoneType | None | an ECM object is not given, a number of actions must be given with whi |\n",
       "| num_actions | NoneType | None | The number of available actions. If an ECM is not given, should be int |\n",
       "| glow | float | 0.1 | The glow (or eta) parameter. Won't be used if ECM is given |\n",
       "| damp | float | 0.0 | The damping (or gamma) parameter. Won't be used if ECM is given |\n",
       "| softmax | float | 0.1 | The softmax (or beta) parameter. Won't be used if ECM is given |\n",
       "| percept_processor | function | get_percept |  |\n",
       "| action_processor | NoneType | None |  |"
      ],
      "text/plain": [
       "---\n",
       "\n",
       "[source](https://github.com/{user}/projective_simulation/blob/master/projective_simulation/agents/basic_PS.py#L16){target=\"_blank\" style=\"float:right; font-size:smaller\"}\n",
       "\n",
       "### Basic_PSAgent\n",
       "\n",
       ">      Basic_PSAgent (ECM=None, num_actions=None, glow:float=0.1,\n",
       ">                     damp:float=0.0, softmax:float=0.1,\n",
       ">                     percept_processor=<function get_percept>,\n",
       ">                     action_processor=None)\n",
       "\n",
       "*A minimal class every agent should fullfill, every agent should be Derived from this class\n",
       "\n",
       "Examples:\n",
       ">>> pass*\n",
       "\n",
       "|    | **Type** | **Default** | **Details** |\n",
       "| -- | -------- | ----------- | ----------- |\n",
       "| ECM | NoneType | None | an ECM object is not given, a number of actions must be given with whi |\n",
       "| num_actions | NoneType | None | The number of available actions. If an ECM is not given, should be int |\n",
       "| glow | float | 0.1 | The glow (or eta) parameter. Won't be used if ECM is given |\n",
       "| damp | float | 0.0 | The damping (or gamma) parameter. Won't be used if ECM is given |\n",
       "| softmax | float | 0.1 | The softmax (or beta) parameter. Won't be used if ECM is given |\n",
       "| percept_processor | function | get_percept |  |\n",
       "| action_processor | NoneType | None |  |"
      ]
     },
     "execution_count": null,
     "metadata": {},
     "output_type": "execute_result"
    }
   ],
   "source": [
    "show_doc(Basic_PSAgent)"
   ]
  },
  {
   "cell_type": "markdown",
   "id": "eedc9823-ccea-4e45-b823-e70ca9aee5fc",
   "metadata": {},
   "source": [
    "When creating the webpage documentation, `nbdev` will put there whatever does not have `#| hide`. Moreover, it will also put all the `show_doc` it finds within tghe notebooks. Sometimes, you want to hide the doc from a class, but show instead the documenation of a particular function. To do this, put `#| hide` in the corresponding cell and then use `show_doc` of the desired function:"
   ]
  },
  {
   "cell_type": "code",
   "execution_count": null,
   "id": "c5a4feb4-06d7-440b-bf83-0ac842c7a0b1",
   "metadata": {},
   "outputs": [
    {
     "data": {
      "text/markdown": [
       "---\n",
       "\n",
       "[source](https://github.com/{user}/projective_simulation/blob/master/projective_simulation/agents/basic_PS.py#L41){target=\"_blank\" style=\"float:right; font-size:smaller\"}\n",
       "\n",
       "### deliberate\n",
       "\n",
       ">      deliberate (percept:str)\n",
       "\n",
       "*Given a percept, returns an action.\n",
       "(1) If percept is new, add to ECM\n",
       "(2) Get action from percept and h-values.\n",
       "(3) Update g-matrix.*\n",
       "\n",
       "|    | **Type** | **Details** |\n",
       "| -- | -------- | ----------- |\n",
       "| percept | str | . |\n",
       "| **Returns** | **int** | **The action to be performed.** |"
      ],
      "text/plain": [
       "---\n",
       "\n",
       "[source](https://github.com/{user}/projective_simulation/blob/master/projective_simulation/agents/basic_PS.py#L41){target=\"_blank\" style=\"float:right; font-size:smaller\"}\n",
       "\n",
       "### deliberate\n",
       "\n",
       ">      deliberate (percept:str)\n",
       "\n",
       "*Given a percept, returns an action.\n",
       "(1) If percept is new, add to ECM\n",
       "(2) Get action from percept and h-values.\n",
       "(3) Update g-matrix.*\n",
       "\n",
       "|    | **Type** | **Details** |\n",
       "| -- | -------- | ----------- |\n",
       "| percept | str | . |\n",
       "| **Returns** | **int** | **The action to be performed.** |"
      ]
     },
     "execution_count": null,
     "metadata": {},
     "output_type": "execute_result"
    }
   ],
   "source": [
    "show_doc(Basic_PSAgent.deliberate, name = 'deliberate')"
   ]
  },
  {
   "cell_type": "markdown",
   "id": "9e8686e5-8809-4554-97eb-06507b85c25e",
   "metadata": {},
   "source": [
    "## A nice example\n",
    "\n",
    "Aside of full explanations given in the tutorials, it is also nice to include some examples of use after defining a class/function:"
   ]
  },
  {
   "cell_type": "code",
   "execution_count": null,
   "id": "35955b40-78f0-41e9-ab19-1a033fba7fe6",
   "metadata": {},
   "outputs": [],
   "source": [
    "num_actions = 5\n",
    "agent = Basic_PSAgent(num_actions = num_actions)"
   ]
  },
  {
   "cell_type": "code",
   "execution_count": null,
   "id": "6f69e4e4-5579-4223-a214-0c89e3824a4e",
   "metadata": {},
   "outputs": [
    {
     "data": {
      "text/plain": [
       "<__main__.Basic_PSAgent>"
      ]
     },
     "execution_count": null,
     "metadata": {},
     "output_type": "execute_result"
    }
   ],
   "source": [
    "agent"
   ]
  },
  {
   "cell_type": "code",
   "execution_count": null,
   "id": "44107fba-548f-4dc7-ae48-a0b6d06e804e",
   "metadata": {},
   "outputs": [],
   "source": []
  }
 ],
 "metadata": {
  "kernelspec": {
   "display_name": "python3",
   "language": "python",
   "name": "python3"
  }
 },
 "nbformat": 4,
 "nbformat_minor": 5
}
