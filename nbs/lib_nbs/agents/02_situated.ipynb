{
 "cells": [
  {
   "cell_type": "code",
   "execution_count": 1,
   "id": "a2e0df0a-1438-4c2d-b56a-4f80c1895d59",
   "metadata": {},
   "outputs": [],
   "source": [
    "#| default_exp agents.situated"
   ]
  },
  {
   "cell_type": "code",
   "execution_count": 2,
   "id": "07b29248-490a-4e55-8dd9-f4218b3b3cf7",
   "metadata": {},
   "outputs": [],
   "source": [
    "#| export\n",
    "\n",
    "import numpy as np\n",
    "from projective_simulation.agents.abstract_PS import PS_Agent\n",
    "from projective_simulation.ECMs.priming import Priming_ECM\n",
    "from projective_simulation.ECMs.episodic import Episodic_Memory\n",
    "from projective_simulation.methods.preprocessors import action_factorizor\n",
    "\n",
    "class Situated_Agent(PS_Agent):\n",
    "    def __init__(self, \n",
    "                 reflex_ECM = None, #if an ECM object is not given, a number of actions must be given with which to create one\n",
    "                 episode_ECM = None,\n",
    "                 num_actions = None, # The number of available actions. If an ECM is not given, should be int\n",
    "                 memory_capacity:int = None,\n",
    "                 glow: float = 0.1, # The glow (or eta) parameter. Won't be used if ECM is given\n",
    "                 damp: float = 0., # The damping (or gamma) parameter. Won't be used if ECM is given\n",
    "                 reflex_softmax: float = 0.1, # The softmax (or beta) parameter. Won't be used if ECM is given\n",
    "                 PS_softmax: float = 0.7,\n",
    "                 focus: float = 0,\n",
    "                 error_tolerance: float = 0.01,\n",
    "                 min_expectation: float = 0.01,\n",
    "                 deliberation_length: int = 1,\n",
    "                 t = 0,\n",
    "                 percept_processor = None, \n",
    "                 action_processor = None\n",
    "                ):\n",
    "        assert isinstance(reflex_ECM, Priming_ECM) or isinstance(num_actions, int)\n",
    "        if reflex_ECM is None:\n",
    "            self.reflex_ECM = Priming_ECM(num_actions, glow, damp, reflex_softmax)\n",
    "        else:\n",
    "            self.reflex_ECM = reflex_ECM\n",
    "\n",
    "        assert isinstance(episode_ECM, Episodic_Memory) or isinstance(memory_capacity, int)\n",
    "        if episode_ECM is None:\n",
    "            self.episode_ECM = Episodic_Memory(num_actions = self.reflex_ECM.num_actions, \n",
    "                                               capacity = memory_capacity, \n",
    "                                               softmax = PS_softmax,\n",
    "                                               focus = focus,\n",
    "                                               error_tolerance = error_tolerance,\n",
    "                                               min_expectation = min_expectation,\n",
    "                                               deliberation_length = deliberation_length,\n",
    "                                               t = t\n",
    "                                              )\n",
    "        else:\n",
    "            self.episode_ECM = episode_ECM\n",
    "        assert self.reflex_ECM.num_actions == self.episode_ECM.num_actions\n",
    "        self.num_actions = self.reflex_ECM.num_actions\n",
    "\n",
    "        if percept_processor is None:\n",
    "            self.percept_processor = action_factorizor(num_actions = self.num_actions)\n",
    "        else:\n",
    "            self.percept_processor = percept_processor\n",
    "\n",
    "    def get_action(self, observation):\n",
    "        action = self.reflex_ECM.deliberate(str(observation))\n",
    "        percept = self.percept_processor.get_percept(observation, action)\n",
    "        self.episode_ECM.deliberate(percept) #runs predictions, priming actions for next step.\n",
    "        return(action)\n",
    "\n",
    "    def update(self):\n",
    "        reward = np.nanmean(self.episode_ECM.valences) - self.episode_ECM.surprise\n",
    "        self.ECM.learn(reward)\n",
    "                                               \n",
    "                                               \n"
   ]
  },
  {
   "cell_type": "code",
   "execution_count": 7,
   "id": "86c3afde-5ce7-4f5d-84d6-d47735ed7c38",
   "metadata": {},
   "outputs": [
    {
     "data": {
      "text/plain": [
       "0"
      ]
     },
     "execution_count": 7,
     "metadata": {},
     "output_type": "execute_result"
    }
   ],
   "source": [
    "test = Situated_Agent(num_actions = 2, memory_capacity = 10)\n"
   ]
  },
  {
   "cell_type": "code",
   "execution_count": 13,
   "id": "7d89feb6-abee-4db5-8181-0d2acd8426cb",
   "metadata": {},
   "outputs": [
    {
     "data": {
      "text/plain": [
       "array([[ True, False,  True, False,  True,  True, False, False, False,\n",
       "        False],\n",
       "       [False,  True, False,  True, False, False, False, False, False,\n",
       "        False],\n",
       "       [ True,  True,  True,  True, False, False, False, False, False,\n",
       "        False],\n",
       "       [ True,  True,  True, False, False, False, False, False, False,\n",
       "        False],\n",
       "       [False, False, False,  True,  True,  True, False, False, False,\n",
       "        False],\n",
       "       [False, False, False, False,  True, False, False, False, False,\n",
       "        False],\n",
       "       [False, False, False, False, False,  True, False, False, False,\n",
       "        False]])"
      ]
     },
     "execution_count": 13,
     "metadata": {},
     "output_type": "execute_result"
    }
   ],
   "source": [
    "test.get_action(np.array([5,1]))\n",
    "test.episode_ECM.trace_encoder"
   ]
  },
  {
   "cell_type": "code",
   "execution_count": null,
   "id": "ca19b1cc-d155-4177-9acc-c045aafc8ea3",
   "metadata": {},
   "outputs": [],
   "source": []
  }
 ],
 "metadata": {
  "kernelspec": {
   "display_name": "Python 3 (ipykernel)",
   "language": "python",
   "name": "python3"
  },
  "language_info": {
   "codemirror_mode": {
    "name": "ipython",
    "version": 3
   },
   "file_extension": ".py",
   "mimetype": "text/x-python",
   "name": "python",
   "nbconvert_exporter": "python",
   "pygments_lexer": "ipython3",
   "version": "3.12.0"
  }
 },
 "nbformat": 4,
 "nbformat_minor": 5
}
