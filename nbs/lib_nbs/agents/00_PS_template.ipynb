{
 "cells": [
  {
   "cell_type": "code",
   "execution_count": null,
   "id": "df201624-2dd7-4d78-8d6f-f6ce3a7f5534",
   "metadata": {},
   "outputs": [],
   "source": [
    "#| default_exp agents.abstract_agent"
   ]
  },
  {
   "cell_type": "code",
   "execution_count": 7,
   "id": "6c50f03a-a831-4e97-89b8-91496a86d73e",
   "metadata": {},
   "outputs": [],
   "source": [
    "#| export\n",
    "\n",
    "from sys import version_info\n",
    "\n",
    "if version_info >= (3, 4):  # compatibility\n",
    "    from abc import ABC, abstractmethod\n",
    "    ABC = ABC\n",
    "else:\n",
    "    from abc import ABCMeta, abstractmethod\n",
    "    ABC = ABCMeta('ABC', (), {})\n",
    "\n",
    "\n",
    "class PS_Agent(ABC):\n",
    "    \"\"\"A minimal class every agent should fullfill, every agent should be Derived from this class\n",
    "\n",
    "    Examples:\n",
    "    >>> pass\n",
    "    \"\"\"\n",
    "\n",
    "    @abstractmethod\n",
    "    def __init__(self, ECM = None, percept_processor = None, action_processor = None):\n",
    "        \"\"\"\n",
    "        Args:\n",
    "            ECM: The ECM Object to use\n",
    "            percept_processor: An optional object for transforming observations prior to passing to ECM as a percept. Must have method \"preprocess\"\n",
    "            action_processor: An optional object for transforming actions prior to passing to Environment as an actuator state. Must have method \"postprocess\"            \n",
    "        \"\"\"\n",
    "        self.ECM = ECM\n",
    "        assert ECM is not None\n",
    "\n",
    "        self.percept_processor = percept_processor\n",
    "        if percept_processor is not None:\n",
    "            assert hasattr(percept_processor, \"preproccess\")\n",
    "\n",
    "        self.action_processor = action_processor\n",
    "        if action_processor is not None:\n",
    "            assert hassattr(action_processor, \"postprocess\")\n",
    "\n",
    "    @abstractmethod\n",
    "    def update(self, reward, observation):\n",
    "        \"\"\"\n",
    "        Args:\n",
    "            reward: The reward as float or integer, reward None means skip learning\n",
    "            observation: data object passed from the environment/sensors\n",
    "        \"\"\"\n",
    "        raise NotImplementedError\n",
    "    \n",
    "    @abstractmethod\n",
    "    def deliberate(self, percept):\n",
    "        \"\"\"\n",
    "        Args:\n",
    "            percept: Data object to be processed by ECM: vector\n",
    "        Return:\n",
    "            action\n",
    "        \"\"\"\n",
    "        raise NotImplementedError\n"
   ]
  }
 ],
 "metadata": {
  "kernelspec": {
   "display_name": "Python 3 (ipykernel)",
   "language": "python",
   "name": "python3"
  },
  "language_info": {
   "codemirror_mode": {
    "name": "ipython",
    "version": 3
   },
   "file_extension": ".py",
   "mimetype": "text/x-python",
   "name": "python",
   "nbconvert_exporter": "python",
   "pygments_lexer": "ipython3",
   "version": "3.12.0"
  }
 },
 "nbformat": 4,
 "nbformat_minor": 5
}
