{
 "cells": [
  {
   "cell_type": "markdown",
   "metadata": {},
   "source": [
    "# Contribution guide\n",
    "\n",
    "> In this notebook I will guide you through the basics of contributing to the `projective_simulation` library. "
   ]
  },
  {
   "cell_type": "markdown",
   "metadata": {},
   "source": [
    "# 1. The `nbdev` package\n",
    "\n",
    "This library is based on [`nbdev`](https://nbdev.fast.ai/). [This](https://fastai.github.io/jupytercon-2023/) is a nice tutorial on everything you need to learnd about it.\n",
    "\n",
    "In the rest of this notebook I will highlight the minimum needed from the library to contribute to the `projective_simulation`. In particular, I will show you the few magic commands that will allow us to create a python package from notebooks. \n",
    "\n",
    "# 2. Installation\n",
    "\n",
    "Before starting to write your code, use `pip`to install the library. To do so, clone the repository and do a local installation of the package. For that, you just need to go to the repo's folder and run:\n",
    "\n",
    "```\n",
    "pip install -e .\n",
    "```\n",
    "\n",
    "# 3. Write new code\n",
    "\n",
    "Now that you have the library installed, let's write some new code using Jupyter Notebooks. For the moment, let's do something simple and talk later about how to properly structure the library. Let's consider that I want to create, inside the library `projective_simulation`, a new module `utils` in which I will gather few useful functions.\n",
    "\n",
    "To tell `nbdev` that I want this notebook to do the previous, we use the `default_exp` magic command in the following way:\n",
    "\n",
    "> **Important**: any `nbdev` magic command must be preceded by `#|`"
   ]
  },
  {
   "cell_type": "code",
   "execution_count": null,
   "metadata": {},
   "outputs": [],
   "source": [
    "#| default_exp demo"
   ]
  },
  {
   "cell_type": "raw",
   "metadata": {},
   "source": [
    "This will ensure the objects we create within this notebook will be exported to a `.py` file called `demo.py` within the package folder. You can find the latter in the parent repo folder with the name `projective_simulation` (the chosen name for the library).\n",
    "\n",
    "> **Important:** never write in those `.py`, as their content is automatically generated from the notebooks and any change there will be overwritten :) .\n",
    "\n",
    "Now let's write some proper code! We will create a function that we want to be contained in the module utils. To do so, we use the command `#| export` to tell `nbdev` that we want the content of this to go to the current module:"
   ]
  },
  {
   "cell_type": "code",
   "execution_count": null,
   "metadata": {},
   "outputs": [],
   "source": [
    "#| export\n",
    "import numpy as np\n",
    "\n",
    "def random_func(k): return k*np.random.rand()"
   ]
  },
  {
   "cell_type": "markdown",
   "metadata": {},
   "source": [
    "We need to actively export the current state of the notebook. To do so, you can either run `nbdev_export` in your terminal (inside the repo folder) or run the following cell:\n",
    "\n",
    "> **Important 1:** `nbdev_export` exports the current state of the notebooks in you library. This means the last saved version! While notebooks usually autosave, it is good practice to save the notebook before running the command.\n",
    "\n",
    "> **Important 2:** because I don't want this command to go to the module, I don't put the `#| export` command in the cell."
   ]
  },
  {
   "cell_type": "code",
   "execution_count": null,
   "metadata": {},
   "outputs": [],
   "source": [
    "import nbdev; nbdev.nbdev_export()"
   ]
  },
  {
   "cell_type": "markdown",
   "metadata": {},
   "source": [
    "And that's it! If you are curious, you can go to `projective_simulation/utils.py` and see that the content of the file is exactly the one in the cell above."
   ]
  },
  {
   "cell_type": "markdown",
   "metadata": {},
   "source": [
    "# 3. Importing generated functions\n",
    "\n",
    "Because the package has been installed through `pip`, we can now import the function we just created. Let's see how. First, restart the notebook's kernel. Now, you can import the `random_func` function as:"
   ]
  },
  {
   "cell_type": "code",
   "execution_count": null,
   "metadata": {},
   "outputs": [],
   "source": [
    "from projective_simulation.demo import random_func"
   ]
  },
  {
   "cell_type": "code",
   "execution_count": null,
   "metadata": {},
   "outputs": [
    {
     "data": {
      "text/plain": [
       "0.7677206458844685"
      ]
     },
     "execution_count": null,
     "metadata": {},
     "output_type": "execute_result"
    }
   ],
   "source": [
    "random_func(2)"
   ]
  },
  {
   "cell_type": "markdown",
   "metadata": {},
   "source": [
    "# 4. Contributing to the repo\n",
    "\n",
    "Notebooks have a lot of useless metadata in them (i.e. the count of the cell execution, the environment you are using,...). This would make impossible contribute to a shared repo, as for instance different contributors may be using different environment names, which would end up in a conflict. To avoid this, `nbdev` has  created hooks that deal with this problem (check their documentation if you want to know details). For now, you just need to do the following:\n",
    "\n",
    "- After installing `nbdev` (should have been done automatically when installing `projective_simulation` as I put it as a requirement), run the following in your terminal, inside the repo's folder:\n",
    "```\n",
    "nbdev_install_hooks\n",
    "```\n",
    "\n",
    "- **MOST IMPORTANTLY**, before pushing any changes to the origin, be sure to have done two things:\n",
    "  1) Export the changes you did in the notebook (see above)\n",
    "  2) Clean the metadata of your notebooks using the command `nbdev_clean`\n",
    " \n",
    "# 5. Git considerations"
   ]
  },
  {
   "cell_type": "markdown",
   "metadata": {},
   "source": [
    "For a brief tutorial on using git and project protocols, please see 01_using_git in the same folder as this notebook."
   ]
  }
 ],
 "metadata": {
  "kernelspec": {
   "display_name": "python3",
   "language": "python",
   "name": "python3"
  }
 },
 "nbformat": 4,
 "nbformat_minor": 4
}
