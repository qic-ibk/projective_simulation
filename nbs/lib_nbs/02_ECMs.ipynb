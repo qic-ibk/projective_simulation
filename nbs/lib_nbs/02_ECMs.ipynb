{
 "cells": [
  {
   "cell_type": "code",
   "execution_count": null,
   "id": "4c6c27c4-41b7-4367-814f-1ac318d674fb",
   "metadata": {},
   "outputs": [],
   "source": [
    "#| default_exp ECMs"
   ]
  },
  {
   "cell_type": "code",
   "execution_count": null,
   "id": "1d38fae9",
   "metadata": {},
   "outputs": [],
   "source": [
    "#| hide\n",
    "%load_ext autoreload\n",
    "%autoreload 2"
   ]
  },
  {
   "cell_type": "markdown",
   "id": "53cf1dd9",
   "metadata": {},
   "source": [
    "# ECMs\n",
    "\n",
    "This module contains different types of episodic and compositional memories (ECMs)"
   ]
  },
  {
   "cell_type": "markdown",
   "id": "3c5475b4-a17f-44f1-ba9c-3ace43286a47",
   "metadata": {},
   "source": [
    "#| hide\n",
    "\n",
    "# Abstract ECM"
   ]
  },
  {
   "cell_type": "code",
   "execution_count": null,
   "id": "9bbeb219-d8ac-427c-8d02-868a3c884b7e",
   "metadata": {},
   "outputs": [],
   "source": [
    "#| export\n",
    "from projective_simulation.lib_helpers import CustomABCMeta\n",
    "from abc import abstractmethod\n",
    "\n",
    "\n",
    "class Abstract_ECM(metaclass = CustomABCMeta):\n",
    "    \"\"\"\n",
    "    Abstract agent class any episodic and compositional memory (ECM) should be derived from. Asserts that the necessary methods are implemented.\n",
    "    \"\"\"\n",
    "\n",
    "    def __init__(self):\n",
    "        '''\n",
    "        No restrictions on the constructor, as the ECM can be anything that has a deliberate module.\n",
    "        '''\n",
    "        pass\n",
    "\n",
    "    @abstractmethod\n",
    "    def deliberate(self,):\n",
    "        \"\"\"\n",
    "        Performs a random walk through the ECM. Typically, this implies receiving an input percept and returning an action.\n",
    "        \"\"\"\n",
    "        pass"
   ]
  },
  {
   "cell_type": "code",
   "execution_count": null,
   "id": "6bab47e7",
   "metadata": {},
   "outputs": [
    {
     "name": "stdout",
     "output_type": "stream",
     "text": [
      "Got the expected TypeError, test passed.\n"
     ]
    }
   ],
   "source": [
    "#| hide\n",
    "\n",
    "### Test ###\n",
    "\n",
    "class test_abstract(Abstract_ECM):\n",
    "\n",
    "    def __init__(self, num_actions = 2):\n",
    "        self.num_actions = num_actions\n",
    "\n",
    "        super().__init__()\n",
    "\n",
    "    # Here we do not define on purpose the deliberate method, to check if the abstract class raises an error when trying to instantiate it.\n",
    "    # def deliberate(self):\n",
    "    #     return 0\n",
    "\n",
    "try:\n",
    "    agent = test_abstract()  # This should raise a TypeError\n",
    "except TypeError:\n",
    "    print(\"Got the expected TypeError, test passed.\")\n",
    "else:\n",
    "    raise AssertionError(\"TestAgent() did NOT raise TypeError but it should have.\") \n"
   ]
  },
  {
   "cell_type": "markdown",
   "id": "6a93a56c-8778-4f41-93c7-6e917f669250",
   "metadata": {},
   "source": [
    "# Two Layer ECMs"
   ]
  },
  {
   "cell_type": "markdown",
   "id": "97738bf4-5dc1-4b6d-b893-c9057675e02f",
   "metadata": {},
   "source": [
    "## Basic Two Layer"
   ]
  },
  {
   "cell_type": "code",
   "execution_count": null,
   "id": "0deeec79-d8e1-451f-a275-c01f306a184d",
   "metadata": {},
   "outputs": [],
   "source": [
    "#| export\n",
    "import numpy as np\n",
    "from projective_simulation.methods.transforms import _softmax\n",
    "\n",
    "class Two_Layer(Abstract_ECM):\n",
    "    def __init__(self, \n",
    "                 # The number of available actions.\n",
    "                 num_actions: int, \n",
    "                 # The glow (or eta) parameter. \n",
    "                 glow: float, \n",
    "                 # The damping (or gamma) parameter. \n",
    "                 damp: float,\n",
    "                 # If 'greedy', uses a greedy policy that samples the most action based on the h-matrix. \n",
    "                 # If 'softmax', uses a softmax policy that samples an action based on the h-matrix and a temperature parameter (encoded in policy_parameters).\n",
    "                 # If object, uses this object to sample action. Input must be h_values corresponding to current percept + arbitrary policy_parameters.\n",
    "                 policy: str = 'greedy',                 \n",
    "                 # The parameters of the policy.\n",
    "                 policy_parameters: dict = None\n",
    "                ):\n",
    "\n",
    "        \"\"\"\n",
    "        Two layer ECM. First layer, encoding the percepts observed in an environment, is initially empty (e.g. self.num_percepts = 0). As percepts\n",
    "        are observed, they are added to the ECM and to the percept dictionary self.percepts. \n",
    "        The second layer, encoding the actions, has size self.num_actions.\n",
    "        In practice, the ECM graph is never created. Instead, it is defined indirectly by the h-matrix and g-matrix. \n",
    "        Both have size (self.num_percepts, self.num_actions). \n",
    "        The input policy (greedy, softmax or other) is used to sample actions based on the h-matrix.\n",
    "\n",
    "        For an end-to-end example of how to use this class, see the tutorial notebook on Basic PS agent.\n",
    "        \n",
    "        \"\"\"\n",
    "\n",
    "        self.num_actions = num_actions\n",
    "        self.glow = glow\n",
    "        self.damp = damp\n",
    "\n",
    "        self.policy = policy\n",
    "        self.policy_parameters = policy_parameters\n",
    "        \n",
    "        # Initialize ECM structures\n",
    "\n",
    "        #int: current number of percepts.\n",
    "        self.num_percepts = 0\n",
    "        #np.ndarray: h-matrix with current h-values. Defaults to all 1.\n",
    "        self.hmatrix = np.ones([0,self.num_actions])\n",
    "        #np.ndarray: g-matrix with current glow values. Defaults to all 0.\n",
    "        self.gmatrix = np.zeros([0,self.num_actions])\n",
    "        #dict: Dictionary of percepts as {\"percept\": index}\n",
    "        self.percepts = {}\n",
    "\n",
    "    def deliberate(self, percept: str):\n",
    "        \"\"\"\n",
    "        Given a percept, returns an action and changes the ECM if necessary\n",
    "        First, if the percept is new, it will be added to the ECM\n",
    "        Then, an action is selected as a function of the percept and the h-values of edges connected to that percept\n",
    "        Finally, the g-matrix is updated based on the realized percept-action pair.\n",
    "        \"\"\"\n",
    "\n",
    "        # Add percept to ECM if not already present\n",
    "        self.add_percept(percept)\n",
    "        # Get index from dictionary entry\n",
    "        percept_index = self.percepts[percept]\n",
    "        # Get h-values\n",
    "        h_values = self.hmatrix[percept_index]\n",
    "\n",
    "        # Perform Random Walk through the ECM based on h_values and current policy\n",
    "        if self.policy == 'greedy': \n",
    "            # Sample greedly the action with the highest h-value\n",
    "            h_values = self.hmatrix[percept_index]\n",
    "            action = h_values.argmax()   \n",
    "\n",
    "        elif self.policy == 'softmax':\n",
    "            # Get probabilities from h-values through a softmax function\n",
    "            prob = _softmax(self.policy_parameters, h_values)\n",
    "            # Sample action based on probabilities\n",
    "            action = np.random.choice(range(self.num_actions), p=prob) \n",
    "\n",
    "        else:\n",
    "            # This considers a custom policy\n",
    "            action = self.policy(h_values = h_values, **self.policy_parameters)\n",
    "\n",
    "        # Update g-matrix\n",
    "        self.gmatrix[int(percept_index),int(action)] = 1.\n",
    "\n",
    "        return action\n",
    "\n",
    "    def add_percept(self, percept):\n",
    "        '''\n",
    "        Checks if percept is in dictionary and adds to ECM in not\n",
    "        '''\n",
    "        if percept not in self.percepts.keys(): \n",
    "            self.percepts[percept] = self.num_percepts\n",
    "            # increment number of percepts\n",
    "            self.num_percepts += 1\n",
    "            # add column to h-matrix\n",
    "            self.hmatrix = np.append(self.hmatrix, \n",
    "                                     np.ones([1,self.num_actions]),\n",
    "                                     axis=0)\n",
    "            # add column to g-matrix\n",
    "            self.gmatrix = np.append(self.gmatrix, \n",
    "                                    np.zeros([1,self.num_actions]),\n",
    "                                    axis=0)\n",
    "\n",
    "    def learn(self, reward):\n",
    "        \"\"\"\n",
    "        Given a reward, updates h-matrix and g-matrix\n",
    "        \"\"\"\n",
    "        # damping h-matrix\n",
    "        self.hmatrix = self.hmatrix - self.damp*(self.hmatrix-1.)\n",
    "        # update h-matrix\n",
    "        self.hmatrix += reward*self.gmatrix\n",
    "        # update g-matrix\n",
    "        self.gmatrix = (1-self.glow)*self.gmatrix"
   ]
  },
  {
   "cell_type": "code",
   "execution_count": null,
   "id": "09d52db6",
   "metadata": {},
   "outputs": [],
   "source": [
    "#| hide\n",
    "\n",
    "### Test ###\n",
    "\n",
    "# Greedy policy\n",
    "ECM_2l_greedy = Two_Layer(4,1,1)\n",
    "ECM_2l_greedy.deliberate(0)\n",
    "\n",
    "# Softmax policy\n",
    "ECM_2l_softmax = Two_Layer(4,1,1, policy = 'softmax', policy_parameters = 1)\n",
    "ECM_2l_softmax.deliberate(0);"
   ]
  },
  {
   "cell_type": "markdown",
   "id": "40f161bf-f152-47b7-a791-bcbcf5f8af3d",
   "metadata": {},
   "source": [
    "## Priming Two Layer"
   ]
  },
  {
   "cell_type": "code",
   "execution_count": null,
   "id": "5ca43ac0-7080-4f63-9418-0bf032ce8f34",
   "metadata": {},
   "outputs": [],
   "source": [
    "#| export\n",
    "from projective_simulation.methods import transforms\n",
    "\n",
    "class Priming_ECM(Two_Layer):\n",
    "    '''\n",
    "    This sub-class of the Two-Layer ECM adds a variable for action priming.\n",
    "    This variable should be a list of floats, each element of which corresponds to an action in the ECM.\n",
    "    These \"priming values\" are summed with h-values of any edge connected to the associated action node prior to calculating walk probabilites with the softmax function\n",
    "    '''\n",
    "    def __init__(self, \n",
    "                 num_actions: int, # The number of available actions.                 \n",
    "                 glow: float = 0.1, # The glow (or eta) parameter. \n",
    "                 damp: float = 0.01, # The damping (or gamma) parameter. \n",
    "                 softmax: float = 0.5, # The softmax (or beta) parameter.\n",
    "                 action_primes: list = None, #weights on the probability that deliberation steps into each action. Defaults to 0 for each action \n",
    "                ):\n",
    "        if action_primes is None:\n",
    "            action_primes = [0.] * num_actions\n",
    "        assert len(action_primes) == num_actions\n",
    "\n",
    "        self.softmax = softmax\n",
    "        super().__init__(num_actions, glow, damp, \n",
    "                         policy = None) # Here I made explicit that the policy is None, as we override the deliberate method\n",
    "        self.action_primes = action_primes\n",
    "        \n",
    "\n",
    "    def deliberate(self, percept):\n",
    "        '''\n",
    "        Almost identical to the deliberate function of Two-Layer parent class, but sums h-values and action primes prior to calculating walk probabilities\n",
    "        '''\n",
    "        self.add_percept(percept)\n",
    "        #Perform Random Walk\n",
    "        # get index from dictionary entry\n",
    "        percept_index = self.percepts[percept]\n",
    "        # get h-values\n",
    "        h_values = self.hmatrix[percept_index]\n",
    "        #~~~Differences from two-layer deliberate function within\n",
    "        assert len(h_values) == len (self.action_primes)\n",
    "        # get probabilities from h-values and primes through a softmax function\n",
    "        prob = transforms._softmax(self.softmax, h_values + self.action_primes)\n",
    "        #~~~~~~~\n",
    "        # get action\n",
    "        action = np.random.choice(range(self.num_actions), p=prob)        \n",
    "        #pdate g-matrix\n",
    "        self.gmatrix[int(percept_index),int(action)] = 1.\n",
    "        return action"
   ]
  },
  {
   "cell_type": "markdown",
   "id": "dfc5f245-9469-46d2-9163-77933555e13d",
   "metadata": {},
   "source": [
    "#### Example"
   ]
  },
  {
   "cell_type": "code",
   "execution_count": null,
   "id": "bfc3660f-8cbd-4852-bde9-d5adb33ef485",
   "metadata": {},
   "outputs": [],
   "source": [
    "#| hide\n",
    "from projective_simulation.environments import RLGL\n",
    "from projective_simulation.ECMs import Priming_ECM\n",
    "import matplotlib.pyplot as plt"
   ]
  },
  {
   "cell_type": "code",
   "execution_count": null,
   "id": "d3b54c11",
   "metadata": {},
   "outputs": [
    {
     "data": {
      "text/plain": [
       "[<matplotlib.lines.Line2D>]"
      ]
     },
     "execution_count": null,
     "metadata": {},
     "output_type": "execute_result"
    },
    {
     "data": {
      "image/png": "[encoded data removed]",
      "text/plain": [
       "<Figure size 640x480 with 1 Axes>"
      ]
     },
     "metadata": {},
     "output_type": "display_data"
    }
   ],
   "source": [
    "test_ECM = Priming_ECM(num_actions = 2, action_primes = [0., 1.5])\n",
    "#Number of steps to run simulation\n",
    "T = 100\n",
    "data_log = [None] * T\n",
    "env = RLGL() #create a default red-light-green-light environment\n",
    "\n",
    "for t in range(T):\n",
    "    observation = env.get_observation()\n",
    "    action = test_ECM.deliberate(observation)\n",
    "    reward = env.get_reward(action)\n",
    "    test_ECM.learn(reward)\n",
    "    data_log[t] = {\"env_state\": env.state, \"action\": action, \"reward\": reward}\n",
    "    env.transition(action)\n",
    "\n",
    "plt.plot(range(T), [np.mean([data_log[step][\"reward\"] for step in range(i-10,i+1) if step >= 0]) for i in range(T)]) #plot a 10 step moving average of the reward "
   ]
  },
  {
   "cell_type": "markdown",
   "id": "85bfdddd",
   "metadata": {},
   "source": [
    "#| hide\n",
    "# nbdev export"
   ]
  },
  {
   "cell_type": "code",
   "execution_count": null,
   "id": "04a5b876",
   "metadata": {},
   "outputs": [],
   "source": [
    "#| hide\n",
    "import nbdev; nbdev.nbdev_export()"
   ]
  }
 ],
 "metadata": {
  "kernelspec": {
   "display_name": "python3",
   "language": "python",
   "name": "python3"
  }
 },
 "nbformat": 4,
 "nbformat_minor": 5
}
