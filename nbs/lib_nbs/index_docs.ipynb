{
 "cells": [
  {
   "cell_type": "markdown",
   "id": "1c229e77-04d4-4674-b5a4-4ca336f4861d",
   "metadata": {},
   "source": [
    "# Documentation"
   ]
  },
  {
   "cell_type": "markdown",
   "id": "bc5bfd93-0b2b-4afb-a4ed-c48173ee29bc",
   "metadata": {},
   "source": [
    "The library is organized with three main modules\n",
    "\n",
    "- **Agents:** collects different types of agents that observe their environment, update their internal structure and deliberate on new actions\n",
    "\n",
    "- **ECMs:** gathers different episodic and compositional memories, the internal structure from which agents will sample their next action.\n",
    "\n",
    "-  **Environments:** a collection of environments develop to either showcase some properties of PS or rather as an application.\n",
    "\n",
    "To know which agent fits better your particular application, you can see a map of the various PS agents existing, and contained in this library in this [link](../figs/PS_mindmap.html). "
   ]
  },
  {
   "cell_type": "code",
   "execution_count": null,
   "id": "7ed98a1b-8e4d-4687-a3d1-2611bfea9210",
   "metadata": {},
   "outputs": [],
   "source": []
  }
 ],
 "metadata": {
  "kernelspec": {
   "display_name": "Python 3 (ipykernel)",
   "language": "python",
   "name": "python3"
  },
  "language_info": {
   "codemirror_mode": {
    "name": "ipython",
    "version": 3
   },
   "file_extension": ".py",
   "mimetype": "text/x-python",
   "name": "python",
   "nbconvert_exporter": "python",
   "pygments_lexer": "ipython3",
   "version": "3.9.12"
  }
 },
 "nbformat": 4,
 "nbformat_minor": 5
}
