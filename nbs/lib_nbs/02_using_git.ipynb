{
 "cells": [
  {
   "cell_type": "markdown",
   "id": "0b268f1c-dc20-4e3d-a284-61032d846a3d",
   "metadata": {},
   "source": [
    "# Intro to Git for PS Users - Intro\n",
    "\n",
    "Git a version control software that stores \"snapshots\" of files in a directory. It has many tools that facilitate collaborative work. This document will introduce to the basics of using git, and the standards of practice we use to manage this shared Projective Simulation project repository. Although there are plenty of user interfaces out there for using git (GitKraken is effective and open source if you are interested), everything you need for the purposes of contributing to this project can be done simply using either GitHub or your local command line. For now, this document provides command line instructions for Windows only. Users of other operating systems are welcome to add.\n",
    "\n",
    "# Installation\n",
    "\n",
    "The first step for using git is intallation. You can find instructions for doing so here: https://git-scm.com/book/en/v2/Getting-Started-Installing-Git\n",
    "\n",
    "# Intitializing a Git Repository\n",
    "\n",
    "There are a number of ways to initialize a local repository that uses git. To create a local copy of the PS repository, you will need to \"clone\" the remote version (the one stored on GitHub). Because this is a private repository, github needs to know your credentials before you acheive this through your terminal. You can do this by creating a Personal Access Token\n",
    "\n",
    "## Creating a Personal Access Token\n",
    "\n",
    "A Personal Access Token (PAT) is essential a password that tells github who you are and whether you have access to a repository. To create one, go to your GitHub Settings (in the dropdown if you click on your profile picture) and select \"Developer Settings\" then \"Personal Access Tokens\" > \"Tokens (Classic)\". In the top right of the page, select \"Generate New Token > Classic Token\" (Fine-grained tokens can be used to provide access to specific repositories you own, rather than all of them, but to my knowledge can not give you access to private repositories shared through an organization, such as the PS repository). You will be asked to enter your password, and then name you token, set its expiry date, and its scope. Selecting the \"repo\" scope is sufficient for working with the PS repository. You can then generate a token.\n",
    "\n",
    "**Important**: Treat your token like a password! Store it somewhere safe - it can be used by anyone to gain access (within the scopes you selected) to all of your GitHub repositories.\n",
    "\n",
    "## Cloning A Respository\n",
    "\n",
    "To clone the PS repository navigate using your command line to the folder in which you wish the repository to live, then run the following command"
   ]
  },
  {
   "cell_type": "raw",
   "id": "645cf7d8-3b4a-44ed-9d1d-c203c113745b",
   "metadata": {},
   "source": [
    "> git clone https://<PAT>@github.com/qic-ibk/projective_simulation.git"
   ]
  },
  {
   "cell_type": "markdown",
   "id": "d726e2e0-dcb1-48ea-806d-35c5d71265e3",
   "metadata": {},
   "source": [
    "where <PAT> is your personal access token.\n",
    "\n",
    "# Creating A Branch\n",
    "\n",
    "The best practice for collaborative projects it to work in your own branch of the repository. Creating a branch essentially means that git keeps track of two versions of the repository that you can easily switch between. When you have finished a task or a project, you can \"merge\" branches back together. Generally, if merging two branches would be destructive, meaning any data from either branch would be overwritten, you will recieve a warning and an opportunity to review any conflicts. Creating you own branch means that you can push any changes you make to the remote repository without overwriting anything and give other team members an opportunity to review any conflicts before the merge is made. To create a new branch, use the command"
   ]
  },
  {
   "cell_type": "raw",
   "id": "0b6e3287-713a-4a59-9a2c-fc37cbc7623a",
   "metadata": {},
   "source": [
    "> git branch <branch_name>"
   ]
  },
  {
   "cell_type": "code",
   "execution_count": null,
   "id": "6b06cea2-61cd-49dc-b54d-b83b7167da89",
   "metadata": {},
   "outputs": [],
   "source": [
    "**Important**: Creating a new branch does automatically change the version you are working on to that branch! To do this, you need to checkout the branch:"
   ]
  },
  {
   "cell_type": "raw",
   "id": "a2c77ad2-f893-488e-ba22-7b61f5a2ba75",
   "metadata": {},
   "source": [
    "> git checkout <branch_name>"
   ]
  },
  {
   "cell_type": "code",
   "execution_count": null,
   "id": "6bf0f9a1-1254-4a5b-8427-5414a2180434",
   "metadata": {},
   "outputs": [],
   "source": [
    "You can view a list of all available branches using"
   ]
  },
  {
   "cell_type": "raw",
   "id": "13809528-af7c-4202-8388-5f7dcf8f3d37",
   "metadata": {},
   "source": [
    "> git branch"
   ]
  },
  {
   "cell_type": "markdown",
   "id": "4a585b72-b205-4ba7-88fa-eb9f572cc47c",
   "metadata": {},
   "source": [
    "# Committing Your Changes\n",
    "\n",
    "Once you have created your own branch of the repository, you can work in the repository however you choose. You can create a snapshot of the repository at any time, allowing you to revert to that repository state at any time. We won't discuss reverting in this document, but it is recommended that you commit your changes often. This is done in a two step process. First, you need to \"stage\" the files you want git to update with its new snapshot, then you commit all of the staged files:"
   ]
  },
  {
   "cell_type": "raw",
   "id": "04478b42-73f6-47f2-9c5a-8f8a152eabb3",
   "metadata": {},
   "source": [
    "> git add file1.py\n",
    "> git add file2.py\n",
    "> git commit -m \"Commit Demonstration\""
   ]
  },
  {
   "cell_type": "markdown",
   "id": "49042fad-39d1-4db4-a63d-4c0c39642332",
   "metadata": {},
   "source": [
    "The -m (\"message\") is optional, but it is highly (**highly**) recommended that you include a short message with every commit that makes it clear what changes you have made. As a general rule-of-thumb, if you are staging multiple files or need long commit messages to describe your changes, you aren't commiting often enough! The simple habit of making a commit any time you complete a task in your workflow will go a long way toward helping other people understand your work, and can be a real life saver if you ever want to go back and remember exactly how you did something, or try a new approach starting from an old version of code, etc. . .\n",
    "\n",
    "# Pushing Your Changes to the Remote Repository\n",
    "\n",
    "When you are ready to add your work to the remote PS repository, you can do this either by \"pushing\" your local repository or by making a \"pull request\" of the remote repository administrators. Pushing is much simpler, but if your work creates conflicts you will overwrite data in the remote repository. Note that conflicts are not caused by changes in files *per se* but by differences in commits. For example, if you push your branch to the remote reposity, the delete a file locally, commit and push again, there won't be a conflict! You can easily recover the deleted file by reverting to an old commit. If you are working using your own branch, you can thus always push it to the remote repository safely:"
   ]
  },
  {
   "cell_type": "raw",
   "id": "55353388-b81a-40ff-90f8-23491fee1e8e",
   "metadata": {},
   "source": [
    "> git push origin <branch_name>"
   ]
  },
  {
   "cell_type": "markdown",
   "id": "24da8098-5453-4469-a69d-42e38e140868",
   "metadata": {},
   "source": [
    "The argument \"origin\" simply tells git that you are pushing your local repository to the repository from which it was cloned.\n",
    "\n",
    "If you are working on a branch of the repository collaboratively, or you want to push your changes directly to the \"master\" brach of the remote repository you should **always pull from the remote repository before you push**. When you pull from the remote repository, git will try to add any changes made in the remote repository since the last time you pulled from (or cloned) it. If any of these changes would be destructive, you will get a warning and the pull will fail. There are ways to override this, but we won't discuss them here: if you get a warning about conflicts when both attempting to push and to pull a branch, your collaborative workflow is not working and you should discuss how to proceed with your teammates. The effective approach to making changes to a shared branch such as \"master\" goes as follows:"
   ]
  },
  {
   "cell_type": "raw",
   "id": "5a4929d6-6ab7-4235-a334-a21ddb7eccdd",
   "metadata": {},
   "source": [
    "> git pull origin master\n",
    "> git merge <branch_name> -m \"local changes merge\"\n",
    "> git push origin master"
   ]
  },
  {
   "cell_type": "markdown",
   "id": "25d6e906-023b-417d-9807-d17ad59ba350",
   "metadata": {},
   "source": [
    "Note that merging automatically makes a commit to the master branch (or whatever branch <branch_name> orginates from). Thus, even if your merge requires you to manage some conflicts (for example, your branch deleted a few line of code), you should be able to push to the remote repository without trouble. You aren't deleting those lines of code, you are just adding a commit that doesn't include them! Of course, such changes should still be discussed with porject administrators - even though they are recoverable it doesn't mean other teammates want to revert to an old commit to find the file version that has them!\n",
    "\n",
    "With that, you should equipped to work collaboratively with the PS team! Happy Coding (:"
   ]
  }
 ],
 "metadata": {
  "kernelspec": {
   "display_name": "Python 3 (ipykernel)",
   "language": "python",
   "name": "python3"
  },
  "language_info": {
   "codemirror_mode": {
    "name": "ipython",
    "version": 3
   },
   "file_extension": ".py",
   "mimetype": "text/x-python",
   "name": "python",
   "nbconvert_exporter": "python",
   "pygments_lexer": "ipython3",
   "version": "3.12.0"
  }
 },
 "nbformat": 4,
 "nbformat_minor": 5
}
