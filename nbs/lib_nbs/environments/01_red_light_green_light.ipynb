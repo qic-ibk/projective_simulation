{
 "cells": [
  {
   "cell_type": "code",
   "execution_count": null,
   "id": "59210df1-874c-4b88-a20a-21b163ddc88c",
   "metadata": {},
   "outputs": [],
   "source": [
    "#| default_exp environments.rlgl"
   ]
  },
  {
   "cell_type": "code",
   "execution_count": null,
   "id": "86d01947-58c6-449b-a3d3-114fadf2cb52",
   "metadata": {},
   "outputs": [],
   "source": []
  }
 ],
 "metadata": {
  "kernelspec": {
   "display_name": "python3",
   "language": "python",
   "name": "python3"
  }
 },
 "nbformat": 4,
 "nbformat_minor": 5
}
