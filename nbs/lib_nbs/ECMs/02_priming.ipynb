{
 "cells": [
  {
   "cell_type": "code",
   "execution_count": null,
   "id": "1094b025-8af6-4055-9e1d-47c637e724af",
   "metadata": {},
   "outputs": [],
   "source": [
    "#| default_exp ECMs.priming"
   ]
  },
  {
   "cell_type": "code",
   "execution_count": null,
   "id": "0bf99081-2264-43aa-91f5-9f6cddb8674f",
   "metadata": {},
   "outputs": [],
   "source": [
    "#| hide\n",
    "from nbdev import show_doc"
   ]
  },
  {
   "cell_type": "markdown",
   "id": "c7bcc40c-c657-403a-8a92-f7ab253572a3",
   "metadata": {},
   "source": [
    "# Priming "
   ]
  },
  {
   "cell_type": "code",
   "execution_count": 1,
   "id": "ab815c66-d1e8-4582-b781-068fef5d54a9",
   "metadata": {},
   "outputs": [],
   "source": [
    "#| export\n",
    "#| hide\n",
    "from projective_simulation.methods import transforms\n",
    "from projective_simulation.ECMs.core import Two_Layer\n",
    "\n",
    "class Priming_ECM(Two_Layer):\n",
    "    def __init__(self, \n",
    "                 num_actions: int, # The number of available actions.                 \n",
    "                 glow: float = 0.1, # The glow (or eta) parameter. \n",
    "                 damp: float = 0.01, # The damping (or gamma) parameter. \n",
    "                 softmax: float = 0.5, # The softmax (or beta) parameter.\n",
    "                 action_primes: list = None, #weights on the probability that deliberation steps into each action. Defaults to 0 for each action \n",
    "                ):\n",
    "        \n",
    "        '''\n",
    "        This sub-class of the Two-Layer ECM adds a variable for action priming.\n",
    "        This variable should be a list of floats, each element of which corresponds to an action in the ECM.\n",
    "        These \"priming values\" are summed with h-values of any edge connected to the associated action node prior to calculating walk probabilites with the softmax function\n",
    "        '''\n",
    "        if action_primes is None:\n",
    "            action_primes = [0.] * num_actions\n",
    "        assert len(action_primes) == num_actions\n",
    "\n",
    "        self.softmax = softmax\n",
    "        super().__init__(num_actions, glow, damp, \n",
    "                         policy = None) # Here I made explicit that the policy is None, as we override the sample method\n",
    "        self.action_primes = action_primes\n",
    "        \n",
    "\n",
    "    def sample(self, percept):\n",
    "        '''\n",
    "        Almost identical to the sample function of Two-Layer parent class, but sums h-values and action primes prior to calculating walk probabilities\n",
    "        '''\n",
    "        self.add_percept(percept)\n",
    "        #Perform Random Walk\n",
    "        # get index from dictionary entry\n",
    "        percept_index = self.percepts[percept]\n",
    "        # get h-values\n",
    "        h_values = self.hmatrix[percept_index]\n",
    "        #~~~Differences from two-layer sample function within\n",
    "        assert len(h_values) == len (self.action_primes)\n",
    "        # get probabilities from h-values and primes through a softmax function\n",
    "        prob = transforms._softmax(self.softmax, h_values + self.action_primes)\n",
    "        #~~~~~~~\n",
    "        # get action\n",
    "        action = np.random.choice(range(self.num_actions), p=prob)        \n",
    "        #pdate g-matrix\n",
    "        self.gmatrix[int(percept_index),int(action)] = 1.\n",
    "        return action"
   ]
  },
  {
   "cell_type": "code",
   "execution_count": null,
   "id": "d02827bb-3a9f-40f8-935f-4300bb9e1cd3",
   "metadata": {
    "scrolled": true
   },
   "outputs": [],
   "source": [
    "show_doc(Priming_ECM.__init__, name = 'Priming_ECM')"
   ]
  },
  {
   "cell_type": "markdown",
   "id": "def1f825-f06d-49d7-bf4e-f4781e2a3ae8",
   "metadata": {},
   "source": [
    "#### Example"
   ]
  },
  {
   "cell_type": "code",
   "execution_count": 1,
   "id": "04d13630-69d2-4bda-b2c6-3c7d4d33268d",
   "metadata": {},
   "outputs": [],
   "source": [
    "#| hide\n",
    "from projective_simulation.envs.core import RLGL\n",
    "from projective_simulation.ECMs.priming import Priming_ECM\n",
    "import matplotlib.pyplot as plt\n",
    "import numpy as np"
   ]
  },
  {
   "cell_type": "code",
   "execution_count": 5,
   "id": "aac93058-00e3-4a90-b191-3bad762607b9",
   "metadata": {},
   "outputs": [
    {
     "data": {
      "text/plain": [
       "[<matplotlib.lines.Line2D at 0x736802157b10>]"
      ]
     },
     "execution_count": 5,
     "metadata": {},
     "output_type": "execute_result"
    },
    {
     "data": {
      "image/png": "[encoded data removed]",
      "text/plain": [
       "<Figure size 640x480 with 1 Axes>"
      ]
     },
     "metadata": {},
     "output_type": "display_data"
    }
   ],
   "source": [
    "test_ECM = Priming_ECM(num_actions = 2, action_primes = [0., 1.5])\n",
    "#Number of steps to run simulation\n",
    "T = 100\n",
    "data_log = [None] * T\n",
    "env = RLGL() #create a default red-light-green-light environment\n",
    "\n",
    "for t in range(T):\n",
    "    observation = env.get_observation()\n",
    "    action = test_ECM.sample(observation)\n",
    "    reward = env.get_reward(action)\n",
    "    test_ECM.learn(reward)\n",
    "    data_log[t] = {\"env_state\": env.state, \"action\": action, \"reward\": reward}\n",
    "    env.transition(action)\n",
    "\n",
    "plt.plot(range(T), [np.mean([data_log[step][\"reward\"] for step in range(i-10,i+1) if step >= 0]) for i in range(T)]) #plot a 10 step moving average of the reward "
   ]
  }
 ],
 "metadata": {
  "kernelspec": {
   "display_name": "PS",
   "language": "python",
   "name": "ps"
  },
  "language_info": {
   "codemirror_mode": {
    "name": "ipython",
    "version": 3
   },
   "file_extension": ".py",
   "mimetype": "text/x-python",
   "name": "python",
   "nbconvert_exporter": "python",
   "pygments_lexer": "ipython3",
   "version": "3.11.10"
  }
 },
 "nbformat": 4,
 "nbformat_minor": 5
}
