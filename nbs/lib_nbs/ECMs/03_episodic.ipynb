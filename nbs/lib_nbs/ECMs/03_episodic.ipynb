{
 "cells": [
  {
   "cell_type": "code",
   "execution_count": 1,
   "id": "b697d09d-0a74-4c0d-af7b-6e90645207c4",
   "metadata": {},
   "outputs": [],
   "source": [
    "#| default_exp ECMs.episodic"
   ]
  },
  {
   "cell_type": "code",
   "execution_count": 2,
   "id": "2e7ec30e-b1c7-41b3-9936-3eb1151d209c",
   "metadata": {},
   "outputs": [],
   "source": [
    "#| export\n",
    "import numpy as np\n",
    "from projective_simulation.ECMs.template_ECM import ECM\n",
    "from projective_simulation.utils import _softmax\n",
    "\n",
    "class Episodic_Memory(ECM):\n",
    "    def __init__(self,\n",
    "                 num_actions: int,\n",
    "                 capacity: int = 10,\n",
    "                 softmax: float = 0.7,\n",
    "                 t: int = 0,\n",
    "                 focus: float = 1.,\n",
    "                 error_tolerance: float = 0.01,\n",
    "                 min_expectation: float = 0.01\n",
    "                ):\n",
    "        #initialize constants\n",
    "        self.num_actions = num_actions\n",
    "        self.softmax = 0.7 #temperature for softmax function\n",
    "        self.focus = focus\n",
    "        self.error_tolerance = error_tolerance\n",
    "        self.min_expectation\n",
    "        \n",
    "        #initialize variables\n",
    "        self.t = t\n",
    "\n",
    "        #initialize ECM states\n",
    "        self.hmatrix = np.zeros((num_actions, capacity)) #weights connecting percept nodes to trace nodes\n",
    "        self.capacity = capacity\n",
    "        self.trace_encoder = np.zeros((self.num_actions, self.capacity)) #boolean matrix indicating whether a percept node was encoded in a trace\n",
    "        self.action_encoder = np.ones((self.num_actions, self.capacity)) #boolean matrix indicated whether a percept node belongs to an action\n",
    "        self.expectations = np.zeros(self.num_actions) + self.min_expectation\n",
    "        self.beliefs = np.zeros(self.capacity)\n",
    "        self.valences = np.zeros(self.capacity)\n",
    "        \n",
    "\n",
    "    def deliberate(self, percept):\n",
    "        self.add_percept(percept)\n",
    "        self.encode_trace(percept)\n",
    "\n",
    "    def add_percept(self, percept):\n",
    "        if len(percept) > np.shape(self.hmatrix)[0]: #if percept is longer than the first dimension of the hmatrix it means there is something new in the observation (handled by preprocessor)\n",
    "            i = np.shape(self.hmatrix)[0] #get index for new elements in ECM\n",
    "            new_elements = percept[i:len(percept)]    \n",
    "            self.hmatrix = np.append(self.hmatrix, np.zeros((len(new_elements), self.capacity)), axis = 0) #add baseline weights to connections between new percept nodes and all traces\n",
    "            self.trace_encoder = np.append(self.trace_encoder, np.zeros((len(new_elements), self.capacity)), axis = 0) #new percept nodes have no existing connections to trace nodes\n",
    "            self.action_encoded = np.append(self.action_encoder, np.zeros((len(new_elements), self.capacity)), axis = 0) #this ECM does not support new actions, so new percept nodes are sensory by default\n",
    "\n",
    "    def encode_trace(self, percept):\n",
    "        self.trace_encoder[0:,self.t] = percept"
   ]
  },
  {
   "cell_type": "code",
   "execution_count": 3,
   "id": "0509bf27-3b31-4e03-9018-f24763f596a6",
   "metadata": {},
   "outputs": [
    {
     "data": {
      "text/plain": [
       "array([[0., 0., 0., 0., 0., 0., 0., 0., 0., 0.],\n",
       "       [0., 0., 0., 0., 0., 0., 0., 0., 0., 0.]])"
      ]
     },
     "execution_count": 3,
     "metadata": {},
     "output_type": "execute_result"
    }
   ],
   "source": [
    "test = Episodic_Memory(num_actions = 2)\n",
    "test.trace_encoder\n",
    "\n"
   ]
  },
  {
   "cell_type": "code",
   "execution_count": 4,
   "id": "82eafd4a-4ec1-4bd3-ad1d-ebd0ecded281",
   "metadata": {},
   "outputs": [
    {
     "data": {
      "text/plain": [
       "array([[1., 0., 0., 0., 0., 0., 0., 0., 0., 0.],\n",
       "       [0., 0., 0., 0., 0., 0., 0., 0., 0., 0.],\n",
       "       [1., 0., 0., 0., 0., 0., 0., 0., 0., 0.],\n",
       "       [1., 0., 0., 0., 0., 0., 0., 0., 0., 0.]])"
      ]
     },
     "execution_count": 4,
     "metadata": {},
     "output_type": "execute_result"
    }
   ],
   "source": [
    "test.deliberate([1,0,1,1])\n",
    "test.trace_encoder"
   ]
  }
 ],
 "metadata": {
  "kernelspec": {
   "display_name": "Python 3 (ipykernel)",
   "language": "python",
   "name": "python3"
  },
  "language_info": {
   "codemirror_mode": {
    "name": "ipython",
    "version": 3
   },
   "file_extension": ".py",
   "mimetype": "text/x-python",
   "name": "python",
   "nbconvert_exporter": "python",
   "pygments_lexer": "ipython3",
   "version": "3.12.0"
  }
 },
 "nbformat": 4,
 "nbformat_minor": 5
}
