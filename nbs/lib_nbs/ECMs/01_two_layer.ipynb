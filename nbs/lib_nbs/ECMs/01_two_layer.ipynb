{
 "cells": [
  {
   "cell_type": "code",
   "execution_count": null,
   "id": "28fe94c8-6e7d-42d5-ab57-5ff55d5add66",
   "metadata": {},
   "outputs": [],
   "source": [
    "#| default_exp ECMs.two_layer"
   ]
  },
  {
   "cell_type": "code",
   "execution_count": null,
   "id": "7bc8bf24-93a7-4192-b86d-04c59badc53d",
   "metadata": {},
   "outputs": [],
   "source": [
    "#| export\n",
    "import numpy as np\n",
    "from projective_simulation.ECMs.template_ECM import ECM\n",
    "\n",
    "class Two_Layer(ECM):\n",
    "    def __init__(self, \n",
    "                 num_actions: int, # The number of available actions.\n",
    "                 glow: float, # The glow (or eta) parameter. \n",
    "                 damp: float, # The damping (or gamma) parameter. \n",
    "                 softmax: float # The softmax (or beta) parameter.\n",
    "                ):\n",
    "\n",
    "        \"\"\"\n",
    "        Simple, 2-layered ECM. We initialize an h-matrix with a single row of `num_actions` \n",
    "        entries corresponding to a dummy percept clip being connected to all possible actions with h-values of all 1. We \n",
    "        initialize a g-matrix with a single row of `num_actions` entries with all 0s corresponding to the *glow* values \n",
    "        of percept-action transitions.\n",
    "\n",
    "        percepts must be created from new observations with a preprocessor, e.g. 00_new_percepts\n",
    "                      \n",
    "        NOTE: This simple version misses some features such as clip deletion, emotion tags or generalization mechanisms.\n",
    "        \n",
    "        \"\"\"\n",
    "\n",
    "        self.num_actions = num_actions\n",
    "        self.glow = glow\n",
    "        self.damp = damp\n",
    "        self.softmax = softmax\n",
    "        #int: current number of percepts.\n",
    "        self.num_percepts = 0\n",
    "        #np.ndarray: h-matrix with current h-values. Defaults to all 1.\n",
    "        self.hmatrix = np.ones([1,self.num_actions])\n",
    "        #np.ndarray: g-matrix with current glow values. Defaults to all 0.\n",
    "        self.gmatrix = np.zeros([1,self.num_actions])\n",
    "        #dict: Dictionary of percepts as {\"percept\": index}\n",
    "        self.percepts = {}"
   ]
  }
 ],
 "metadata": {
  "kernelspec": {
   "display_name": "Python 3 (ipykernel)",
   "language": "python",
   "name": "python3"
  },
  "language_info": {
   "codemirror_mode": {
    "name": "ipython",
    "version": 3
   },
   "file_extension": ".py",
   "mimetype": "text/x-python",
   "name": "python",
   "nbconvert_exporter": "python",
   "pygments_lexer": "ipython3",
   "version": "3.12.0"
  }
 },
 "nbformat": 4,
 "nbformat_minor": 5
}
